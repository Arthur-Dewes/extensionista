{
 "cells": [
  {
   "cell_type": "code",
   "id": "5d0fc7ff",
   "metadata": {},
   "source": [
    "import pandas as pd"
   ],
   "outputs": [],
   "execution_count": null
  },
  {
   "cell_type": "code",
   "id": "a94b7d0f",
   "metadata": {},
   "source": [
    "# EI: ensino infantil\n",
    "# EF: ensino fundamental\n",
    "# EM: ensino médio\n",
    "# EJA: educação de jovens e adultos (f: fundamental; m: médio)\n",
    "# EP: educação profissional\n",
    "# ES: educação especial\n",
    "# gn: grupo 1, grupo 2, grupo 3, grupo 4, grupo 5\n",
    "# nvln: nível 1, nível 2, nível 3, nível 4, nível 5\n",
    "\n",
    "# adequacao da formacao do docente\n",
    "afd_cols    = ['ano', 'unidade_geografica', 'localizacao', 'dependencia_administrativa',\n",
    "            'EI_g1', 'EI_g2', 'EI_g3', 'EI_g4', 'EI_g5',\n",
    "           'EF_total_g1', 'EF_total_g2', 'EF_total_g3', 'EF_total_g4', 'EF_total_g5',\n",
    "           'EF_anos_iniciais_g1', 'EF_anos_iniciais_g2', 'EF_anos_iniciais_g3', 'EF_anos_iniciais_g4', 'EF_anos_iniciais_g5',\n",
    "           'EF_anos_finais_g1', 'EF_anos_finais_g2', 'EF_anos_finais_g3', 'EF_anos_finais_g4', 'EF_anos_finais_g5',\n",
    "           'EM_g1', 'EM_g2', 'EM_g3', 'EM_g4', 'EM_g5',\n",
    "           'EJAf_g1', 'EJAf_g2', 'EJAf_g3', 'EJAf_g4', 'EJAf_g5',\n",
    "           'EJAm_g1', 'EJAm_g2', 'EJAm_g3', 'EJAm_g4', 'EJAm_g5']\n",
    "\n",
    "# percentual dos docentes com curso superior\n",
    "dsu_cols = ['ano', 'unidade_geografica', 'localizacao', 'dependencia_administrativa', \n",
    "           'EI_total', 'EI_creche', 'EI_pre_escola',\n",
    "           'EF_total', 'EF_anos_iniciais', 'EF_anos_finais',\n",
    "           'EM', 'EP', 'EJA', 'ES']\n",
    "\n",
    "# regualridade do corpo docente\n",
    "ird_cols = ['ano', 'unidade_geografica', 'localizacao', 'dependencia_administrativa', \n",
    "           'baixa_regularidade(0-|2)', 'media_baixa(2-|3)', 'media_alta(3-|4)', 'alta(4-|5)']\n",
    "\n",
    "# esforco docente\n",
    "ied_cols = ['ano', 'unidade_geografica', 'localizacao', 'dependencia_administrativa',\n",
    "        'EF_total_nvl1', 'EF_total_nvl2','EF_total_nvl3', 'EF_total_nvl4', 'EF_total_nvl5',\n",
    "        'EF_total_nvl6','EF_anos_iniciais_nvl1', 'EF_anos_iniciais_nvl2','EF_anos_iniciais_nvl3', 'EF_anos_iniciais_nvl4', 'EF_anos_iniciais_nvl5', 'EF_anos_iniciais_nvl6','EF_anos_finais_nvl1', 'EF_anos_finais_nvl2','EF_anos_finais_nvl3', 'EF_anos_finais_nvl4', 'EF_anos_finais_nvl5', 'EF_anos_finais_nvl6','EM_nvl1', 'EM_nvl2','EM_nvl3', 'EM_nvl4', 'EM_nvl5', 'EM_nvl6']"
   ],
   "outputs": [],
   "execution_count": null
  },
  {
   "cell_type": "markdown",
   "id": "5d6f10aa",
   "metadata": {},
   "source": [
    "# 2018"
   ]
  },
  {
   "cell_type": "code",
   "id": "b5209131",
   "metadata": {},
   "source": [
    "df_AFD_2018 = pd.read_excel('dados2018/AFD_BRASIL_REGIOES_UFS_2018.xlsx', names=afd_cols, header=None, skiprows=11, nrows=587, engine='openpyxl')\n",
    "df_DSU_2018 = pd.read_excel('dados2018/DSU_BRASIL_REGIOES_UFS_2018_ATUALIZADO.xlsx', names=dsu_cols, header=None, skiprows=10, nrows=587, engine='openpyxl')\n",
    "df_IRD_2018 = pd.read_excel('dados2018/IRD_BRASIL_REGIOES_UFS_2018.xlsx', names=ird_cols, header=None, skiprows=10, nrows=586, engine='openpyxl')\n",
    "df_IED_2018 = pd.read_excel('dados2018/IED_BRASIL_REGIOES_UFS_2018.xlsx', names = ied_cols,header=None,skiprows=11, nrows=586, engine='openpyxl')"
   ],
   "outputs": [],
   "execution_count": null
  },
  {
   "cell_type": "code",
   "id": "b58fcdb3",
   "metadata": {},
   "source": [
    "float_cols = df_AFD_2018.columns.to_list()[4:]\n",
    "df_AFD_2018[float_cols] = df_AFD_2018[float_cols].apply(pd.to_numeric, errors='coerce')"
   ],
   "outputs": [],
   "execution_count": null
  },
  {
   "cell_type": "markdown",
   "id": "eff0b9502df6226e",
   "metadata": {},
   "source": [
    "Filtrar as linhas para pegar apenas as regioes e excluir colunas que nao iremos utilizar\n",
    "\n"
   ]
  },
  {
   "cell_type": "code",
   "id": "f34b23b542fd5a7d",
   "metadata": {},
   "source": [
    "regioes_AFD_2018 = df_AFD_2018.drop(['EJAf_g1', 'EJAf_g2', 'EJAf_g3', 'EJAf_g4', 'EJAf_g5',\n",
    "           'EJAm_g1', 'EJAm_g2', 'EJAm_g3', 'EJAm_g4', 'EJAm_g5'], axis=1).loc[:107].fillna(0)\n",
    "\n",
    "regioes_DSU_2018 = df_DSU_2018.drop(['EP', 'EJA', 'ES'],axis=1).loc[:107].fillna(0)\n",
    "regioes_IRD_2018 = df_IRD_2018.loc[:107].fillna(0)\n",
    "regioes_IED_2018 = df_IED_2018.loc[:107].fillna(0)"
   ],
   "outputs": [],
   "execution_count": null
  },
  {
   "cell_type": "markdown",
   "id": "86b7825a",
   "metadata": {},
   "source": [
    "# 2019"
   ]
  },
  {
   "cell_type": "code",
   "id": "8abdcdbd",
   "metadata": {},
   "source": [
    "df_AFD_2019 = pd.read_excel('dados2019/AFD_BRASIL_REGIOES_UFS_2019.xlsx', names=afd_cols, header=None, skiprows=11, nrows=587, engine='openpyxl')\n",
    "df_DSU_2019 = pd.read_excel('dados2019/DSU_BRASIL_REGIOES_UFS_2019.xlsx', names=dsu_cols, header=None, skiprows=10, nrows=587, engine='openpyxl')\n",
    "df_IRD_2019 = pd.read_excel('dados2019/IRD_BRASIL_REGIOES_UFS_2019.xlsx', names=ird_cols, header=None, skiprows=10, nrows=586, engine='openpyxl')\n",
    "df_IED_2019 = pd.read_excel('dados2019/IED_BRASIL_REGIOES_UFS_2019.xlsx', names = ied_cols,header=None,skiprows=11, nrows=586, engine='openpyxl')\n"
   ],
   "outputs": [],
   "execution_count": null
  },
  {
   "metadata": {},
   "cell_type": "markdown",
   "source": [
    "Filtrar as linhas para pegar apenas as regioes e excluir colunas que nao iremos utilizar\n",
    "\n"
   ],
   "id": "5038eb15da7ee724"
  },
  {
   "metadata": {},
   "cell_type": "code",
   "source": [
    "regioes_AFD_2019 = df_AFD_2019.drop(['EJAf_g1', 'EJAf_g2', 'EJAf_g3', 'EJAf_g4', 'EJAf_g5',\n",
    "           'EJAm_g1', 'EJAm_g2', 'EJAm_g3', 'EJAm_g4', 'EJAm_g5'], axis=1).loc[:107].fillna(0)\n",
    "\n",
    "regioes_DSU_2019 = df_DSU_2019.drop(['EP', 'EJA', 'ES'],axis=1).loc[:107].fillna(0)\n",
    "regioes_IRD_2019 = df_IRD_2019.loc[:107].fillna(0)\n",
    "regioes_IED_2019 = df_IED_2019.loc[:107].fillna(0)"
   ],
   "id": "4bb14a2e41941af",
   "outputs": [],
   "execution_count": null
  },
  {
   "cell_type": "markdown",
   "id": "100f60d1",
   "metadata": {},
   "source": [
    "# 2022"
   ]
  },
  {
   "cell_type": "code",
   "id": "c54390d6",
   "metadata": {},
   "source": [
    "df_AFD_2022 = pd.read_excel('dados2022/AFD_BRASIL_REGIOES_UFS_2022.xlsx', names=afd_cols, header=None, skiprows=11, nrows=587, engine='openpyxl')\n",
    "df_DSU_2022 = pd.read_excel('dados2022/DSU_BRASIL_REGIOES_UFS_2022.xlsx', names=dsu_cols, header=None, skiprows=10, nrows=587, engine='openpyxl')\n",
    "df_IRD_2022 = pd.read_excel('dados2022/IRD_BRASIL_REGIOES_UFS_2022.xlsx', names=ird_cols, header=None, skiprows=10, nrows=586, engine='openpyxl')\n",
    "df_IED_2022 = pd.read_excel('dados2022/IED_BRASIL_REGIOES_UFS_2022.xlsx', names = ied_cols,header=None,skiprows=11, nrows=586, engine='openpyxl')\n"
   ],
   "outputs": [],
   "execution_count": null
  },
  {
   "cell_type": "code",
   "id": "52b0c30b",
   "metadata": {},
   "source": [
    "float_cols = df_AFD_2022.columns.to_list()[4:]\n",
    "df_AFD_2022[float_cols] = df_AFD_2022[float_cols].apply(pd.to_numeric, errors='coerce')\n",
    "float_cols = df_DSU_2022.columns.to_list()[4:]\n",
    "df_DSU_2022[float_cols] = df_DSU_2022[float_cols].apply(pd.to_numeric, errors='coerce')"
   ],
   "outputs": [],
   "execution_count": null
  },
  {
   "cell_type": "markdown",
   "id": "a475b1e68d8b11cd",
   "metadata": {},
   "source": [
    "Filtrar as linhas para pegar apenas as regioes e excluir colunas que nao iremos utilizar\n"
   ]
  },
  {
   "cell_type": "code",
   "id": "2887d2a87a987515",
   "metadata": {},
   "source": [
    "regioes_AFD_2022 = df_AFD_2022.drop(['EJAf_g1', 'EJAf_g2', 'EJAf_g3', 'EJAf_g4', 'EJAf_g5',\n",
    "           'EJAm_g1', 'EJAm_g2', 'EJAm_g3', 'EJAm_g4', 'EJAm_g5'], axis=1).loc[:107].fillna(0)\n",
    "\n",
    "regioes_DSU_2022 = df_DSU_2022.drop(['EP', 'EJA', 'ES'],axis=1).loc[:107].fillna(0)\n",
    "regioes_IRD_2022 = df_IRD_2022.loc[:107].fillna(0)\n",
    "regioes_IED_2022 = df_IED_2022.loc[:107].fillna(0)"
   ],
   "outputs": [],
   "execution_count": null
  },
  {
   "cell_type": "markdown",
   "id": "9c12aa5a",
   "metadata": {},
   "source": [
    "# 2023"
   ]
  },
  {
   "cell_type": "code",
   "id": "fdd6dd83",
   "metadata": {
    "scrolled": true
   },
   "source": [
    "df_AFD_2023 = pd.read_excel('dados2023/AFD_BRASIL_REGIOES_UFS_2023.xlsx', names=afd_cols, header=None, skiprows=11, nrows=587, engine='openpyxl')\n",
    "df_DSU_2023 = pd.read_excel('dados2023/DSU_BRASIL_REGIOES_UFS_2023.xlsx', names=dsu_cols, header=None, skiprows=10, nrows=587, engine='openpyxl')\n",
    "df_IRD_2023 = pd.read_excel('dados2023/IRD_BRASIL_REGIOES_UFS_2023.xlsx', names=ird_cols, header=None, skiprows=10, nrows=586, engine='openpyxl')\n",
    "df_IED_2023 = pd.read_excel('dados2023/IED_BRASIL_REGIOES_UFS_2023.xlsx', names = ied_cols,header=None,skiprows=11, nrows=586, engine='openpyxl')\n"
   ],
   "outputs": [],
   "execution_count": null
  },
  {
   "cell_type": "code",
   "id": "fe194b71",
   "metadata": {},
   "source": [
    "float_cols = df_AFD_2023.columns.to_list()[4:]\n",
    "df_AFD_2023[float_cols] = df_AFD_2023[float_cols].apply(pd.to_numeric, errors='coerce')\n",
    "float_cols = df_DSU_2023.columns.to_list()[4:]\n",
    "df_DSU_2023[float_cols] = df_DSU_2023[float_cols].apply(pd.to_numeric, errors='coerce')"
   ],
   "outputs": [],
   "execution_count": null
  },
  {
   "cell_type": "markdown",
   "id": "98f99e6c97e3e3cf",
   "metadata": {},
   "source": [
    "Filtrar as linhas para pegar apenas as regioes e excluir colunas que nao iremos utilizar\n",
    "\n"
   ]
  },
  {
   "cell_type": "code",
   "id": "82d26d5eaabb4a12",
   "metadata": {},
   "source": [
    "regioes_AFD_2023 = df_AFD_2023.drop(['EJAf_g1', 'EJAf_g2', 'EJAf_g3', 'EJAf_g4', 'EJAf_g5',\n",
    "           'EJAm_g1', 'EJAm_g2', 'EJAm_g3', 'EJAm_g4', 'EJAm_g5'], axis=1).loc[:107].fillna(0)\n",
    "\n",
    "regioes_DSU_2023 = df_DSU_2023.drop(['EP', 'EJA', 'ES'],axis=1).loc[:107].fillna(0)\n",
    "regioes_IRD_2023 = df_IRD_2023.loc[:107].fillna(0)\n",
    "regioes_IED_2023 = df_IED_2023.loc[:107].fillna(0)"
   ],
   "outputs": [],
   "execution_count": null
  },
  {
   "cell_type": "markdown",
   "id": "99dafc74",
   "metadata": {},
   "source": [
    "### Verificação para saber se todos possuem o mesmo shape"
   ]
  },
  {
   "cell_type": "code",
   "id": "33c815e4",
   "metadata": {},
   "source": [
    "    bases = ['AFD', 'DSU', 'IED', 'IRD']\n",
    "    anos = [2018, 2019, 2022, 2023]\n",
    "\n",
    "    # Comparar os dataframes com prefixo 'df_'\n",
    "    print(\"\\nComparações para 'df_':\")\n",
    "    dif_dfs = []\n",
    "    for base in bases:\n",
    "        shape_2018 = globals()[f\"df_{base}_2018\"].shape\n",
    "\n",
    "        for ano in anos:\n",
    "            nome_df = f\"df_{base}_{ano}\"\n",
    "            df = globals()[nome_df]\n",
    "            same_shape = df.shape == shape_2018\n",
    "            if not same_shape:\n",
    "                print(f\"{nome_df} → Shape diferente: {df.shape}, esperado: {shape_2018}\")\n",
    "                dif_dfs.append(nome_df)\n",
    "    if not dif_dfs:\n",
    "        print(\"Todos os DataFrames 'df_' têm o mesmo shape que os de 2018.\")\n",
    "    else:\n",
    "        print(\"Alguns DataFrames 'df_' têm shape diferente dos de 2018.\")\n",
    "\n",
    "    print()\n",
    "\n",
    "    # Comparar os dataframes com prefixo 'regioes_'\n",
    "    print(\"Comparações para 'regioes_':\")\n",
    "    dif_regioes = []\n",
    "    for base in bases:\n",
    "        shape_2018 = globals()[f\"regioes_{base}_2018\"].shape\n",
    "\n",
    "        for ano in anos:\n",
    "            nome_df = f\"regioes_{base}_{ano}\"\n",
    "            df = globals()[nome_df]\n",
    "            same_shape = df.shape == shape_2018\n",
    "            if not same_shape:\n",
    "                print(f\"{nome_df} → Shape diferente: {df.shape}, esperado: {shape_2018}\")\n",
    "                dif_regioes.append(nome_df)\n",
    "\n",
    "    if not dif_regioes:\n",
    "        print(\"Todos os DataFrames 'regioes_' têm o mesmo shape que os de 2018.\")\n",
    "    else:\n",
    "        print(\"Alguns DataFrames 'regioes_' têm shape diferente dos de 2018.\")\n"
   ],
   "outputs": [],
   "execution_count": null
  },
  {
   "cell_type": "markdown",
   "id": "9e1f086c",
   "metadata": {},
   "source": [
    "Calculos estastisco\n",
    "\n",
    "Média: Calcula a média aritmética de uma coluna.\n",
    "\n",
    "Desvio Padrão: Mede a dispersão dos dados em relação à média.\n",
    "\n",
    "Correlação: Mede a relação linear entre duas variáveis (pode ser positiva, negativa ou nenhuma correlação).\n",
    "\n",
    "Total de Instâncias: Conta o número de valores não nulos na coluna (ou seja, quantos dados válidos existem).\n",
    "\n",
    "Coeficiente de Variação: Indica a dispersão relativa em relação à média, expresso em percentual.\n",
    "\n",
    "Coeficiente de Correlação de Pearson: Mede a relação linear entre duas variáveis (em valores entre -1 e 1).\n"
   ]
  },
  {
   "cell_type": "code",
   "id": "f43cc6ff",
   "metadata": {},
   "source": [
    "# sensivel a valores proximos de zero, o CV pode ficar exageradamente alto\n",
    "def coeficiente_variacao(df, col):\n",
    "    \"\"\" Indica a dispersão relativa em relação à média, expresso em percentual \"\"\"\n",
    "    desvio_padrao = df[col].std()\n",
    "    media = df[col].mean()\n",
    "    return (desvio_padrao / media) * 100\n",
    "\n",
    "def media(df, col):\n",
    "    \"Media de uma coluna\"\n",
    "    return df[col].mean()\n",
    "\n",
    "def desvio_padrao(df, col):\n",
    "    \"Calcula o desvio padrão (populacional) da coluna especificada\"\n",
    "    return df[col].std()\n",
    "\n",
    "def coeficiente_variacao(df, col):\n",
    "    \" Indica a dispersão relativa em relação à média, expresso em percentual.\"\n",
    "    \"Se a média for zero, retorna np.inf para indicar divisão por zero.\"\n",
    "    media_col = df[col].mean()\n",
    "    if media_col == 0:\n",
    "        return float('inf')\n",
    "    desvio = df[col].std()\n",
    "    return (desvio / media_col) * 100\n",
    "\n",
    "def correlacao_pearson(df, col_x, col_y):\n",
    "    \"Calcula o coeficiente de correlação de Pearson entre duas colunas numéricas.\"\n",
    "    \"O resultado varia entre -1 e +1.\"\n",
    "    return df[col_x].corr(df[col_y], method='pearson')"
   ],
   "outputs": [],
   "execution_count": null
  },
  {
   "metadata": {},
   "cell_type": "markdown",
   "source": [
    "Media, Coeficiente de variacao, desvio padrao para qualquer coluna,periodo e data set infromado\n",
    "\n"
   ],
   "id": "760ae569519305ca"
  },
  {
   "metadata": {
    "ExecuteTime": {
     "end_time": "2025-05-20T20:58:07.952290Z",
     "start_time": "2025-05-20T20:58:07.947364Z"
    }
   },
   "cell_type": "code",
   "source": [
    "def analisar_metricas_afd(colunas, anos, df):\n",
    "    for ano in anos:\n",
    "        dfv = globals().get(f\"df_{df}_{ano}\")\n",
    "        if dfv is None:\n",
    "            print(f\"DataFrame df_{df}_{ano} não encontrado.\")\n",
    "            continue\n",
    "        for col in colunas:\n",
    "            if col not in dfv.columns:\n",
    "                print(f\"Coluna {col} não encontrada em df_{df}_{ano}\")\n",
    "                continue\n",
    "            serie = dfv[col].dropna()\n",
    "            media = serie.mean()\n",
    "            desvio = serie.std()\n",
    "            cv = (desvio / media * 100) if media != 0 else float('inf')\n",
    "            print(f\"AFD_{ano} | {col:15} → média={media:.2f}, desvio={desvio:.2f}, CV={cv:.1f}%\")\n"
   ],
   "id": "4f93737da96df3e",
   "outputs": [],
   "execution_count": 63
  },
  {
   "metadata": {
    "ExecuteTime": {
     "end_time": "2025-05-20T20:58:21.533332Z",
     "start_time": "2025-05-20T20:58:21.515689Z"
    }
   },
   "cell_type": "code",
   "source": [
    "colunas = ['EM_g1', 'EM_g2', 'EM_g3', 'EM_g4', 'EM_g5', 'EF_anos_finais_g1', 'EF_anos_finais_g2', 'EF_anos_finais_g3', 'EF_anos_finais_g4', 'EF_anos_finais_g5']\n",
    "anos = [2018, 2019, 2022, 2023]\n",
    "\n",
    "analisar_metricas_afd(colunas, anos, \"AFD\")\n"
   ],
   "id": "5d9b6c1230f83c70",
   "outputs": [
    {
     "name": "stdout",
     "output_type": "stream",
     "text": [
      "AFD_2018 | EM_g1           → média=59.77, desvio=16.03, CV=26.8%\n",
      "AFD_2018 | EM_g2           → média=3.22, desvio=4.96, CV=154.0%\n",
      "AFD_2018 | EM_g3           → média=22.35, desvio=10.88, CV=48.7%\n",
      "AFD_2018 | EM_g4           → média=6.62, desvio=4.86, CV=73.4%\n",
      "AFD_2018 | EM_g5           → média=8.04, desvio=9.32, CV=116.0%\n",
      "AFD_2018 | EF_anos_finais_g1 → média=50.87, desvio=21.46, CV=42.2%\n",
      "AFD_2018 | EF_anos_finais_g2 → média=1.95, desvio=4.59, CV=235.8%\n",
      "AFD_2018 | EF_anos_finais_g3 → média=27.09, desvio=12.85, CV=47.4%\n",
      "AFD_2018 | EF_anos_finais_g4 → média=4.65, desvio=3.06, CV=65.9%\n",
      "AFD_2018 | EF_anos_finais_g5 → média=15.44, desvio=14.53, CV=94.1%\n",
      "AFD_2019 | EM_g1           → média=60.70, desvio=15.22, CV=25.1%\n",
      "AFD_2019 | EM_g2           → média=5.16, desvio=6.45, CV=125.1%\n",
      "AFD_2019 | EM_g3           → média=22.25, desvio=11.52, CV=51.8%\n",
      "AFD_2019 | EM_g4           → média=7.51, desvio=5.86, CV=78.0%\n",
      "AFD_2019 | EM_g5           → média=4.38, desvio=6.46, CV=147.4%\n",
      "AFD_2019 | EF_anos_finais_g1 → média=52.55, desvio=20.68, CV=39.3%\n",
      "AFD_2019 | EF_anos_finais_g2 → média=3.57, desvio=5.53, CV=155.1%\n",
      "AFD_2019 | EF_anos_finais_g3 → média=28.08, desvio=14.25, CV=50.8%\n",
      "AFD_2019 | EF_anos_finais_g4 → média=5.63, desvio=3.28, CV=58.2%\n",
      "AFD_2019 | EF_anos_finais_g5 → média=10.16, desvio=11.80, CV=116.1%\n",
      "AFD_2022 | EM_g1           → média=67.18, desvio=15.58, CV=23.2%\n",
      "AFD_2022 | EM_g2           → média=2.63, desvio=3.02, CV=115.0%\n",
      "AFD_2022 | EM_g3           → média=22.68, desvio=12.05, CV=53.1%\n",
      "AFD_2022 | EM_g4           → média=3.04, desvio=2.85, CV=93.8%\n",
      "AFD_2022 | EM_g5           → média=4.47, desvio=6.28, CV=140.6%\n",
      "AFD_2022 | EF_anos_finais_g1 → média=59.35, desvio=20.69, CV=34.9%\n",
      "AFD_2022 | EF_anos_finais_g2 → média=1.44, desvio=1.61, CV=111.5%\n",
      "AFD_2022 | EF_anos_finais_g3 → média=27.38, desvio=14.14, CV=51.6%\n",
      "AFD_2022 | EF_anos_finais_g4 → média=2.24, desvio=2.11, CV=94.3%\n",
      "AFD_2022 | EF_anos_finais_g5 → média=9.59, desvio=10.75, CV=112.0%\n",
      "AFD_2023 | EM_g1           → média=67.87, desvio=15.44, CV=22.8%\n",
      "AFD_2023 | EM_g2           → média=2.59, desvio=2.92, CV=112.6%\n",
      "AFD_2023 | EM_g3           → média=22.01, desvio=11.56, CV=52.5%\n",
      "AFD_2023 | EM_g4           → média=2.87, desvio=3.16, CV=110.1%\n",
      "AFD_2023 | EM_g5           → média=4.66, desvio=6.87, CV=147.3%\n",
      "AFD_2023 | EF_anos_finais_g1 → média=59.77, desvio=20.64, CV=34.5%\n",
      "AFD_2023 | EF_anos_finais_g2 → média=1.28, desvio=1.14, CV=89.1%\n",
      "AFD_2023 | EF_anos_finais_g3 → média=27.63, desvio=14.37, CV=52.0%\n",
      "AFD_2023 | EF_anos_finais_g4 → média=2.13, desvio=1.87, CV=88.0%\n",
      "AFD_2023 | EF_anos_finais_g5 → média=9.20, desvio=10.33, CV=112.3%\n"
     ]
    }
   ],
   "execution_count": 64
  },
  {
   "metadata": {
    "ExecuteTime": {
     "end_time": "2025-05-20T21:50:34.851870Z",
     "start_time": "2025-05-20T21:50:34.829165Z"
    }
   },
   "cell_type": "code",
   "source": [
    "def correlacao_pearson_afd(colunas, anos, df_prefixo):\n",
    "    for ano in anos:\n",
    "        dfv = globals().get(f\"df_{df_prefixo}_{ano}\")\n",
    "        if dfv is None:\n",
    "            print(f\"DataFrame df_{df_prefixo}_{ano} não encontrado.\")\n",
    "            continue\n",
    "\n",
    "        # Verifica se as colunas existem no DataFrame\n",
    "        colunas_existentes = [col for col in colunas if col in dfv.columns]\n",
    "        if not colunas_existentes:\n",
    "            print(f\"Nenhuma das colunas especificadas encontradas em df_{df_prefixo}_{ano}\")\n",
    "            continue\n",
    "\n",
    "        # Seleciona só as colunas existentes e remove linhas com NaN\n",
    "        df_corr = dfv[colunas_existentes].dropna()\n",
    "\n",
    "        if df_corr.empty:\n",
    "            print(f\"Nenhum dado disponível para cálculo em df_{df_prefixo}_{ano}\")\n",
    "            continue\n",
    "\n",
    "        corr_matrix = df_corr.corr(method='pearson')\n",
    "\n",
    "        print(f\"\\nMatriz de correlação de Pearson para df_{df_prefixo}_{ano}:\")\n",
    "        print(corr_matrix)\n"
   ],
   "id": "39e2140429c5b53f",
   "outputs": [],
   "execution_count": 65
  },
  {
   "metadata": {
    "ExecuteTime": {
     "end_time": "2025-05-20T21:50:35.702979Z",
     "start_time": "2025-05-20T21:50:35.658509Z"
    }
   },
   "cell_type": "code",
   "source": [
    "colunas = ['EM_g1', 'EM_g2', 'EM_g3', 'EM_g4', 'EM_g5']\n",
    "anos = [2018, 2019, 2022, 2023]\n",
    "correlacao_pearson_afd(colunas, anos, 'AFD')\n"
   ],
   "id": "a48dee0a718e46ea",
   "outputs": [
    {
     "name": "stdout",
     "output_type": "stream",
     "text": [
      "\n",
      "Matriz de correlação de Pearson para df_AFD_2018:\n",
      "          EM_g1     EM_g2     EM_g3     EM_g4     EM_g5\n",
      "EM_g1  1.000000 -0.026363 -0.701171 -0.253268 -0.754955\n",
      "EM_g2 -0.026363  1.000000 -0.381986  0.281867 -0.187599\n",
      "EM_g3 -0.701171 -0.381986  1.000000 -0.195878  0.343917\n",
      "EM_g4 -0.253268  0.281867 -0.195878  1.000000 -0.007253\n",
      "EM_g5 -0.754955 -0.187599  0.343917 -0.007253  1.000000\n",
      "\n",
      "Matriz de correlação de Pearson para df_AFD_2019:\n",
      "          EM_g1     EM_g2     EM_g3     EM_g4     EM_g5\n",
      "EM_g1  1.000000 -0.070799 -0.661586 -0.441467 -0.705267\n",
      "EM_g2 -0.070799  1.000000 -0.504698  0.285498 -0.190493\n",
      "EM_g3 -0.661586 -0.504698  1.000000 -0.152064  0.416899\n",
      "EM_g4 -0.441467  0.285498 -0.152064  1.000000  0.119850\n",
      "EM_g5 -0.705267 -0.190493  0.416899  0.119850  1.000000\n",
      "\n",
      "Matriz de correlação de Pearson para df_AFD_2022:\n",
      "          EM_g1     EM_g2     EM_g3     EM_g4     EM_g5\n",
      "EM_g1  1.000000  0.312830 -0.894222 -0.386304 -0.739466\n",
      "EM_g2  0.312830  1.000000 -0.538453  0.141652 -0.288316\n",
      "EM_g3 -0.894222 -0.538453  1.000000  0.169661  0.481048\n",
      "EM_g4 -0.386304  0.141652  0.169661  1.000000  0.110051\n",
      "EM_g5 -0.739466 -0.288316  0.481048  0.110051  1.000000\n",
      "\n",
      "Matriz de correlação de Pearson para df_AFD_2023:\n",
      "          EM_g1     EM_g2     EM_g3     EM_g4     EM_g5\n",
      "EM_g1  1.000000  0.312062 -0.879387 -0.352289 -0.739142\n",
      "EM_g2  0.312062  1.000000 -0.542576  0.152543 -0.283498\n",
      "EM_g3 -0.879387 -0.542576  1.000000  0.144347  0.458444\n",
      "EM_g4 -0.352289  0.152543  0.144347  1.000000  0.024211\n",
      "EM_g5 -0.739142 -0.283498  0.458444  0.024211  1.000000\n"
     ]
    }
   ],
   "execution_count": 66
  },
  {
   "metadata": {},
   "cell_type": "code",
   "outputs": [],
   "execution_count": null,
   "source": "",
   "id": "4b60c4f8d200d46c"
  }
 ],
 "metadata": {
  "kernelspec": {
   "display_name": "Python 3 (ipykernel)",
   "language": "python",
   "name": "python3"
  },
  "language_info": {
   "codemirror_mode": {
    "name": "ipython",
    "version": 3
   },
   "file_extension": ".py",
   "mimetype": "text/x-python",
   "name": "python",
   "nbconvert_exporter": "python",
   "pygments_lexer": "ipython3",
   "version": "3.12.3"
  }
 },
 "nbformat": 4,
 "nbformat_minor": 5
}
