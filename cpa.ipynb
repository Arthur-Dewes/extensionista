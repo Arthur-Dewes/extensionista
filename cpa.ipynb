{
 "cells": [
  {
   "cell_type": "code",
   "execution_count": 1,
   "id": "5d0fc7ff",
   "metadata": {},
   "outputs": [],
   "source": [
    "import pandas as pd"
   ]
  },
  {
   "cell_type": "code",
   "execution_count": 28,
   "id": "a94b7d0f",
   "metadata": {},
   "outputs": [],
   "source": [
    "# EI: ensino infantil\n",
    "# EF: ensino fundamental\n",
    "# EM: ensino médio\n",
    "# EJA: educação de jovens e adultos (f: fundamental; m: médio)\n",
    "# EP: educação profissional\n",
    "# ES: educação especial\n",
    "# gn: grupo 1, grupo 2, grupo 3, grupo 4, grupo 5\n",
    "\n",
    "afd_cols = ['ano', 'unidade_geografica', 'localizacao', 'dependencia_administrativa', \n",
    "            'EI_g1', 'EI_g2', 'EI_g3', 'EI_g4', 'EI_g5',\n",
    "           'EF_total_g1', 'EF_total_g2', 'EF_total_g3', 'EF_total_g4', 'EF_total_g5',\n",
    "           'EF_anos_iniciais_g1', 'EF_anos_iniciais_g2', 'EF_anos_iniciais_g3', 'EF_anos_iniciais_g4', 'EF_anos_iniciais_g5',\n",
    "           'EF_anos_finais_g1', 'EF_anos_finais_g2', 'EF_anos_finais_g3', 'EF_anos_finais_g4', 'EF_anos_finais_g5',\n",
    "           'EM_g1', 'EM_g2', 'EM_g3', 'EM_g4', 'EM_g5',\n",
    "           'EJAf_g1', 'EJAf_g2', 'EJAf_g3', 'EJAf_g4', 'EJAf_g5',\n",
    "           'EJAm_g1', 'EJAm_g2', 'EJAm_g3', 'EJAm_g4', 'EJAm_g5']\n",
    "\n",
    "dsu_cols = ['ano', 'unidade_geografica', 'localizacao', 'dependencia_administrativa', \n",
    "           'EI_total', 'EI_creche', 'EI_pre_escola',\n",
    "           'EF_total', 'EF_anos_iniciais', 'EF_anos_finais',\n",
    "           'EM', 'EP', 'EJA', 'ES']\n",
    "\n",
    "ird_cols = ['ano', 'unidade_geografica', 'localizacao', 'dependencia_administrativa', \n",
    "           'baixa_regularidade(0-|2)', 'media_baixa(2-|3)', 'media_alta(3-|4)', 'alta(4-|5)']"
   ]
  },
  {
   "cell_type": "markdown",
   "id": "5d6f10aa",
   "metadata": {},
   "source": [
    "# 2018"
   ]
  },
  {
   "cell_type": "code",
   "execution_count": 39,
   "id": "b5209131",
   "metadata": {},
   "outputs": [],
   "source": [
    "df_AFD_2018 = pd.read_excel('extensionista/dados2018/AFD_BRASIL_REGIOES_UFS_2018.xlsx', names=afd_cols, header=None, skiprows=11, nrows=587, engine='openpyxl')\n",
    "df_DSU_2018 = pd.read_excel('extensionista/dados2018/DSU_BRASIL_REGIOES_UFS_2018_ATUALIZADO.xlsx', names=dsu_cols, header=None, skiprows=10, nrows=587, engine='openpyxl')\n",
    "df_IRD_2018 = pd.read_excel('extensionista/dados2018/IRD_BRASIL_REGIOES_UFS_2018.xlsx', names=ird_cols, header=None, skiprows=10, nrows=586, engine='openpyxl')\n",
    "df_microdados_eficiencia_2018 = pd.read_csv('extensionista/dados2018/microdados_eficiencia_academica_2018.csv', delimiter=';')\n",
    "df_microdados_servidores_2018 = pd.read_csv('extensionista/dados2018/microdados_servidores_2018.csv', delimiter=';')"
   ]
  },
  {
   "cell_type": "markdown",
   "id": "86b7825a",
   "metadata": {},
   "source": [
    "# 2019"
   ]
  },
  {
   "cell_type": "code",
   "execution_count": null,
   "id": "8abdcdbd",
   "metadata": {},
   "outputs": [],
   "source": [
    "df_AFD_2019 = pd.read_excel('extensionista/dados2019/AFD_BRASIL_REGIOES_UFS_2019.xlsx', names=afd_cols, header=None, skiprows=11, nrows=587, engine='openpyxl')\n",
    "df_DSU_2019 = pd.read_excel('extensionista/dados2019/DSU_BRASIL_REGIOES_UFS_2019_ATUALIZADO.xlsx', names=dsu_cols, header=None, skiprows=10, nrows=587, engine='openpyxl')\n",
    "df_IRD_2019 = pd.read_excel('extensionista/dados2019/IRD_BRASIL_REGIOES_UFS_2019.xlsx', names=ird_cols, header=None, skiprows=10, nrows=586, engine='openpyxl')\n",
    "df_microdados_eficiencia_2019 = pd.read_csv('extensionista/dados2019/microdados_eficiencia_academica_2019.csv', delimiter=';')\n",
    "df_microdados_servidores_2019 = pd.read_csv('extensionista/dados2019/microdados_servidores_2019.csv', delimiter=';')"
   ]
  },
  {
   "cell_type": "markdown",
   "id": "100f60d1",
   "metadata": {},
   "source": [
    "# 2022"
   ]
  },
  {
   "cell_type": "code",
   "execution_count": null,
   "id": "c54390d6",
   "metadata": {},
   "outputs": [],
   "source": [
    "df_AFD_2022 = pd.read_excel('extensionista/dados2022/AFD_BRASIL_REGIOES_UFS_2022.xlsx', names=afd_cols, header=None, skiprows=11, nrows=587, engine='openpyxl')\n",
    "df_DSU_2022 = pd.read_excel('extensionista/dados2022/DSU_BRASIL_REGIOES_UFS_2022_ATUALIZADO.xlsx', names=dsu_cols, header=None, skiprows=10, nrows=587, engine='openpyxl')\n",
    "df_IRD_2022 = pd.read_excel('extensionista/dados2022/IRD_BRASIL_REGIOES_UFS_2022.xlsx', names=ird_cols, header=None, skiprows=10, nrows=586, engine='openpyxl')\n",
    "df_microdados_eficiencia_2022 = pd.read_csv('extensionista/dados2022/microdados_eficiencia_academica_2022.csv', delimiter=';')\n",
    "df_microdados_servidores_2022 = pd.read_csv('extensionista/dados2022/microdados_servidores_2022.csv', delimiter=';')"
   ]
  },
  {
   "cell_type": "markdown",
   "id": "9c12aa5a",
   "metadata": {},
   "source": [
    "# 2023"
   ]
  },
  {
   "cell_type": "code",
   "execution_count": null,
   "id": "fdd6dd83",
   "metadata": {},
   "outputs": [],
   "source": [
    "df_AFD_2023 = pd.read_excel('extensionista/dados2023/AFD_BRASIL_REGIOES_UFS_2023.xlsx', names=afd_cols, header=None, skiprows=11, nrows=587, engine='openpyxl')\n",
    "df_DSU_2023 = pd.read_excel('extensionista/dados2023/DSU_BRASIL_REGIOES_UFS_2023_ATUALIZADO.xlsx', names=dsu_cols, header=None, skiprows=10, nrows=587, engine='openpyxl')\n",
    "df_IRD_2023 = pd.read_excel('extensionista/dados2023/IRD_BRASIL_REGIOES_UFS_2023.xlsx', names=ird_cols, header=None, skiprows=10, nrows=586, engine='openpyxl')\n",
    "df_microdados_eficiencia_2023 = pd.read_csv('extensionista/dados2023/microdados_eficiencia_academica_2023.csv', delimiter=';')\n",
    "df_microdados_servidores_2023 = pd.read_csv('extensionista/dados2023/microdados_servidores_2023.csv', delimiter=';')"
   ]
  }
 ],
 "metadata": {
  "kernelspec": {
   "display_name": "Python 3 (ipykernel)",
   "language": "python",
   "name": "python3"
  },
  "language_info": {
   "codemirror_mode": {
    "name": "ipython",
    "version": 3
   },
   "file_extension": ".py",
   "mimetype": "text/x-python",
   "name": "python",
   "nbconvert_exporter": "python",
   "pygments_lexer": "ipython3",
   "version": "3.12.3"
  }
 },
 "nbformat": 4,
 "nbformat_minor": 5
}
