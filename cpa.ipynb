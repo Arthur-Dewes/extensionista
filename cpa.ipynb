{
 "cells": [
  {
   "cell_type": "code",
   "id": "5d0fc7ff",
   "metadata": {
    "ExecuteTime": {
     "end_time": "2025-05-19T16:57:22.677772Z",
     "start_time": "2025-05-19T16:57:22.672158Z"
    }
   },
   "source": [
    "import pandas as pd"
   ],
   "outputs": [],
   "execution_count": 23
  },
  {
   "cell_type": "code",
   "id": "a94b7d0f",
   "metadata": {
    "ExecuteTime": {
     "end_time": "2025-05-19T18:01:05.657989Z",
     "start_time": "2025-05-19T18:01:05.652594Z"
    }
   },
   "source": [
    "# EI: ensino infantil\n",
    "# EF: ensino fundamental\n",
    "# EM: ensino médio\n",
    "# EJA: educação de jovens e adultos (f: fundamental; m: médio)\n",
    "# EP: educação profissional\n",
    "# ES: educação especial\n",
    "# gn: grupo 1, grupo 2, grupo 3, grupo 4, grupo 5\n",
    "\n",
    "# adequacao da formacao do docente\n",
    "afd_cols = ['ano', 'unidade_geografica', 'localizacao', 'dependencia_administrativa', \n",
    "            'EI_g1', 'EI_g2', 'EI_g3', 'EI_g4', 'EI_g5',\n",
    "           'EF_total_g1', 'EF_total_g2', 'EF_total_g3', 'EF_total_g4', 'EF_total_g5',\n",
    "           'EF_anos_iniciais_g1', 'EF_anos_iniciais_g2', 'EF_anos_iniciais_g3', 'EF_anos_iniciais_g4', 'EF_anos_iniciais_g5',\n",
    "           'EF_anos_finais_g1', 'EF_anos_finais_g2', 'EF_anos_finais_g3', 'EF_anos_finais_g4', 'EF_anos_finais_g5',\n",
    "           'EM_g1', 'EM_g2', 'EM_g3', 'EM_g4', 'EM_g5',\n",
    "           'EJAf_g1', 'EJAf_g2', 'EJAf_g3', 'EJAf_g4', 'EJAf_g5',\n",
    "           'EJAm_g1', 'EJAm_g2', 'EJAm_g3', 'EJAm_g4', 'EJAm_g5']\n",
    "\n",
    "# percentual dos docentes com curso superior\n",
    "dsu_cols = ['ano', 'unidade_geografica', 'localizacao', 'dependencia_administrativa', \n",
    "           'EI_total', 'EI_creche', 'EI_pre_escola',\n",
    "           'EF_total', 'EF_anos_iniciais', 'EF_anos_finais',\n",
    "           'EM', 'EP', 'EJA', 'ES']\n",
    "\n",
    "# regualridade do corpo docente\n",
    "ird_cols = ['ano', 'unidade_geografica', 'localizacao', 'dependencia_administrativa', \n",
    "           'baixa_regularidade(0-|2)', 'media_baixa(2-|3)', 'media_alta(3-|4)', 'alta(4-|5)']\n",
    "\n",
    "# esforco docente\n",
    "ied_cols = ['ano', 'unidade_geografica', 'localizacao', 'dependencia_administrativa',\n",
    "        'EF_total_nvl1', 'EF_total_nvl2','EF_total_nvl3', 'EF_total_nvl4', 'EF_total_nvl5',\n",
    "        'EF_total_nvl6','EF_anos_iniciais_nvl1', 'EF_anos_iniciais_nvl2','EF_anos_iniciais_nvl3', 'EF_anos_iniciais_nvl4', 'EF_anos_iniciais_nvl5', 'EF_anos_iniciais_nvl6','EF_anos_finais_nvl1', 'EF_anos_finais_nvl2','EF_anos_finais_nvl3', 'EF_anos_finais_nvl4', 'EF_anos_finais_nvl5', 'EF_anos_finais_nvl6','EM_nvl1', 'EM_nvl2','EM_nvl3', 'EM_nvl4', 'EM_nvl5', 'EM_nvl6']"
   ],
   "outputs": [],
   "execution_count": 54
  },
  {
   "cell_type": "markdown",
   "id": "5d6f10aa",
   "metadata": {},
   "source": [
    "# 2018"
   ]
  },
  {
   "cell_type": "code",
   "id": "b5209131",
   "metadata": {
    "ExecuteTime": {
     "end_time": "2025-05-19T18:01:25.905994Z",
     "start_time": "2025-05-19T18:01:25.466257Z"
    }
   },
   "source": [
    "df_AFD_2018 = pd.read_excel('dados2018/AFD_BRASIL_REGIOES_UFS_2018.xlsx', names=afd_cols, header=None, skiprows=11, nrows=587, engine='openpyxl')\n",
    "df_DSU_2018 = pd.read_excel('dados2018/DSU_BRASIL_REGIOES_UFS_2018_ATUALIZADO.xlsx', names=dsu_cols, header=None, skiprows=10, nrows=587, engine='openpyxl')\n",
    "df_IRD_2018 = pd.read_excel('dados2018/IRD_BRASIL_REGIOES_UFS_2018.xlsx', names=ird_cols, header=None, skiprows=10, nrows=586, engine='openpyxl')\n",
    "df_IED_2018 = pd.read_excel('dados2018/IED_BRASIL_REGIOES_UFS_2018.xlsx', names = ied_cols,header=None,skiprows=11, nrows=586, engine='openpyxl')"
   ],
   "outputs": [],
   "execution_count": 57
  },
  {
   "cell_type": "code",
   "id": "b58fcdb3",
   "metadata": {
    "ExecuteTime": {
     "end_time": "2025-05-19T18:01:27.073586Z",
     "start_time": "2025-05-19T18:01:27.052538Z"
    }
   },
   "source": [
    "float_cols = df_AFD_2018.columns.to_list()[4:]\n",
    "df_AFD_2018[float_cols] = df_AFD_2018[float_cols].apply(pd.to_numeric, errors='coerce')"
   ],
   "outputs": [],
   "execution_count": 58
  },
  {
   "metadata": {
    "ExecuteTime": {
     "end_time": "2025-05-19T18:01:27.913220Z",
     "start_time": "2025-05-19T18:01:27.903746Z"
    }
   },
   "cell_type": "code",
   "source": "print(df_IED_2018)",
   "id": "f34b23b542fd5a7d",
   "outputs": [
    {
     "name": "stdout",
     "output_type": "stream",
     "text": [
      "      ano unidade_geografica localizacao dependencia_administrativa  \\\n",
      "0    2018             Brasil       Total                      Total   \n",
      "1    2018             Brasil      Urbana                      Total   \n",
      "2    2018             Brasil       Rural                      Total   \n",
      "3    2018             Brasil       Total                    Federal   \n",
      "4    2018             Brasil      Urbana                    Federal   \n",
      "..    ...                ...         ...                        ...   \n",
      "581  2018   Distrito Federal      Urbana                    Privada   \n",
      "582  2018   Distrito Federal       Rural                    Privada   \n",
      "583  2018   Distrito Federal       Total                    Pública   \n",
      "584  2018   Distrito Federal      Urbana                    Pública   \n",
      "585  2018   Distrito Federal       Rural                    Pública   \n",
      "\n",
      "    EF_total_nvl1 EF_total_nvl2 EF_total_nvl3 EF_total_nvl4 EF_total_nvl5  \\\n",
      "0            20.6          18.3          24.5          27.7             6   \n",
      "1            17.5          18.3          25.3          29.2           6.5   \n",
      "2            33.3            16          19.7          24.1           4.7   \n",
      "3            12.1          40.2          27.3          17.5           1.9   \n",
      "4            11.9          40.3          27.5          17.4           1.9   \n",
      "..            ...           ...           ...           ...           ...   \n",
      "581          18.8          15.7          33.7          26.2           3.8   \n",
      "582             3           6.3          81.3           6.3           3.1   \n",
      "583          40.4          24.1          27.7           6.5           0.7   \n",
      "584          39.8          24.2          28.4           6.4           0.6   \n",
      "585          47.9          22.3          18.7           9.3           1.2   \n",
      "\n",
      "    EF_total_nvl6  ... EF_anos_finais_nvl3 EF_anos_finais_nvl4  \\\n",
      "0             2.9  ...                24.3                39.5   \n",
      "1             3.2  ...                24.9                42.2   \n",
      "2             2.2  ...                19.9                31.6   \n",
      "3               1  ...                29.5                21.5   \n",
      "4               1  ...                29.7                21.4   \n",
      "..            ...  ...                 ...                 ...   \n",
      "581           1.8  ...                34.7                39.4   \n",
      "582             0  ...                82.1                 7.1   \n",
      "583           0.6  ...                63.6                12.7   \n",
      "584           0.6  ...                64.9                12.4   \n",
      "585           0.6  ...                44.1                17.6   \n",
      "\n",
      "    EF_anos_finais_nvl5 EF_anos_finais_nvl6 EM_nvl1 EM_nvl2 EM_nvl3 EM_nvl4  \\\n",
      "0                  10.3                   5     1.2     9.4    25.1    42.9   \n",
      "1                  11.7                 5.8     0.9     9.1    25.2      43   \n",
      "2                   6.7                 3.1       3    12.4    20.9    42.1   \n",
      "3                   2.3                 1.4     2.4    30.6    33.5    30.8   \n",
      "4                   2.2                 1.4     2.1    29.4    33.2    32.3   \n",
      "..                  ...                 ...     ...     ...     ...     ...   \n",
      "581                 7.1                 3.4     0.7     7.9    39.5    38.9   \n",
      "582                 3.6                   0       0       8      72      12   \n",
      "583                 1.4                 1.3     0.3    13.4      61    20.9   \n",
      "584                 1.4                 1.3     0.3    12.8    61.9    20.7   \n",
      "585                 2.9                   1       0    21.8    42.9      29   \n",
      "\n",
      "    EM_nvl5 EM_nvl6  \n",
      "0      14.4       7  \n",
      "1      14.6     7.2  \n",
      "2      14.8     6.8  \n",
      "3       2.2     0.5  \n",
      "4       2.4     0.6  \n",
      "..      ...     ...  \n",
      "581     8.8     4.2  \n",
      "582       4       4  \n",
      "583     2.6     1.8  \n",
      "584     2.5     1.8  \n",
      "585     5.4     0.9  \n",
      "\n",
      "[586 rows x 28 columns]\n"
     ]
    }
   ],
   "execution_count": 59
  },
  {
   "cell_type": "markdown",
   "id": "86b7825a",
   "metadata": {},
   "source": [
    "# 2019"
   ]
  },
  {
   "cell_type": "code",
   "id": "8abdcdbd",
   "metadata": {
    "ExecuteTime": {
     "end_time": "2025-05-19T18:02:02.390938Z",
     "start_time": "2025-05-19T18:02:01.864606Z"
    }
   },
   "source": [
    "df_AFD_2019 = pd.read_excel('dados2019/AFD_BRASIL_REGIOES_UFS_2019.xlsx', names=afd_cols, header=None, skiprows=11, nrows=587, engine='openpyxl')\n",
    "df_DSU_2019 = pd.read_excel('dados2019/DSU_BRASIL_REGIOES_UFS_2019.xlsx', names=dsu_cols, header=None, skiprows=10, nrows=587, engine='openpyxl')\n",
    "df_IRD_2019 = pd.read_excel('dados2019/IRD_BRASIL_REGIOES_UFS_2019.xlsx', names=ird_cols, header=None, skiprows=10, nrows=586, engine='openpyxl')\n",
    "df_IED_2019 = pd.read_excel('dados2019/IED_BRASIL_REGIOES_UFS_2019.xlsx', names = ied_cols,header=None,skiprows=11, nrows=586, engine='openpyxl')\n"
   ],
   "outputs": [],
   "execution_count": 61
  },
  {
   "cell_type": "markdown",
   "id": "100f60d1",
   "metadata": {},
   "source": [
    "# 2022"
   ]
  },
  {
   "cell_type": "code",
   "id": "c54390d6",
   "metadata": {
    "ExecuteTime": {
     "end_time": "2025-05-19T18:02:49.387924Z",
     "start_time": "2025-05-19T18:02:48.794992Z"
    }
   },
   "source": [
    "df_AFD_2022 = pd.read_excel('dados2022/AFD_BRASIL_REGIOES_UFS_2022.xlsx', names=afd_cols, header=None, skiprows=11, nrows=587, engine='openpyxl')\n",
    "df_DSU_2022 = pd.read_excel('dados2022/DSU_BRASIL_REGIOES_UFS_2022.xlsx', names=dsu_cols, header=None, skiprows=10, nrows=587, engine='openpyxl')\n",
    "df_IRD_2022 = pd.read_excel('dados2022/IRD_BRASIL_REGIOES_UFS_2022.xlsx', names=ird_cols, header=None, skiprows=10, nrows=586, engine='openpyxl')\n",
    "df_IED_2022 = pd.read_excel('dados2022/IED_BRASIL_REGIOES_UFS_2022.xlsx', names = ied_cols,header=None,skiprows=11, nrows=586, engine='openpyxl')\n"
   ],
   "outputs": [],
   "execution_count": 62
  },
  {
   "cell_type": "code",
   "execution_count": 32,
   "id": "52b0c30b",
   "metadata": {},
   "outputs": [],
   "source": [
    "float_cols = df_AFD_2022.columns.to_list()[4:]\n",
    "df_AFD_2022[float_cols] = df_AFD_2022[float_cols].apply(pd.to_numeric, errors='coerce')\n",
    "float_cols = df_DSU_2022.columns.to_list()[4:]\n",
    "df_DSU_2022[float_cols] = df_DSU_2022[float_cols].apply(pd.to_numeric, errors='coerce')"
   ]
  },
  {
   "cell_type": "markdown",
   "id": "9c12aa5a",
   "metadata": {},
   "source": [
    "# 2023"
   ]
  },
  {
   "cell_type": "code",
   "id": "fdd6dd83",
   "metadata": {
    "ExecuteTime": {
     "end_time": "2025-05-19T18:03:08.935007Z",
     "start_time": "2025-05-19T18:03:08.288964Z"
    }
   },
   "source": [
    "df_AFD_2023 = pd.read_excel('dados2023/AFD_BRASIL_REGIOES_UFS_2023.xlsx', names=afd_cols, header=None, skiprows=11, nrows=587, engine='openpyxl')\n",
    "df_DSU_2023 = pd.read_excel('dados2023/DSU_BRASIL_REGIOES_UFS_2023.xlsx', names=dsu_cols, header=None, skiprows=10, nrows=587, engine='openpyxl')\n",
    "df_IRD_2023 = pd.read_excel('dados2023/IRD_BRASIL_REGIOES_UFS_2023.xlsx', names=ird_cols, header=None, skiprows=10, nrows=586, engine='openpyxl')\n",
    "df_IED_2023 = pd.read_excel('dados2023/IED_BRASIL_REGIOES_UFS_2023.xlsx', names = ied_cols,header=None,skiprows=11, nrows=586, engine='openpyxl')\n"
   ],
   "outputs": [],
   "execution_count": 63
  },
  {
   "cell_type": "code",
   "execution_count": 41,
   "id": "fe194b71",
   "metadata": {},
   "outputs": [],
   "source": [
    "float_cols = df_AFD_2023.columns.to_list()[4:]\n",
    "df_AFD_2023[float_cols] = df_AFD_2023[float_cols].apply(pd.to_numeric, errors='coerce')\n",
    "float_cols = df_DSU_2023.columns.to_list()[4:]\n",
    "df_DSU_2023[float_cols] = df_DSU_2023[float_cols].apply(pd.to_numeric, errors='coerce')"
   ]
  }
 ],
 "metadata": {
  "kernelspec": {
   "display_name": "Python 3 (ipykernel)",
   "language": "python",
   "name": "python3"
  },
  "language_info": {
   "codemirror_mode": {
    "name": "ipython",
    "version": 3
   },
   "file_extension": ".py",
   "mimetype": "text/x-python",
   "name": "python",
   "nbconvert_exporter": "python",
   "pygments_lexer": "ipython3",
   "version": "3.12.3"
  }
 },
 "nbformat": 4,
 "nbformat_minor": 5
}
