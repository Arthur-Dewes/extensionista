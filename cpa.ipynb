{
 "cells": [
  {
   "cell_type": "code",
   "id": "5d0fc7ff",
   "metadata": {
    "ExecuteTime": {
     "end_time": "2025-05-21T17:30:18.543880Z",
     "start_time": "2025-05-21T17:30:13.462305Z"
    }
   },
   "source": "import pandas as pd",
   "outputs": [],
   "execution_count": 1
  },
  {
   "cell_type": "code",
   "id": "a94b7d0f",
   "metadata": {
    "ExecuteTime": {
     "end_time": "2025-05-21T17:30:18.568818Z",
     "start_time": "2025-05-21T17:30:18.559884Z"
    }
   },
   "source": [
    "# EI: ensino infantil\n",
    "# EF: ensino fundamental\n",
    "# EM: ensino médio\n",
    "# EJA: educação de jovens e adultos (f: fundamental; m: médio)\n",
    "# EP: educação profissional\n",
    "# ES: educação especial\n",
    "# gn: grupo 1, grupo 2, grupo 3, grupo 4, grupo 5\n",
    "# nvln: nível 1, nível 2, nível 3, nível 4, nível 5\n",
    "\n",
    "# adequacao da formacao do docente\n",
    "afd_cols    = ['ano', 'unidade_geografica', 'localizacao', 'dependencia_administrativa',\n",
    "            'EI_g1', 'EI_g2', 'EI_g3', 'EI_g4', 'EI_g5',\n",
    "            'EF_total_g1', 'EF_total_g2', 'EF_total_g3', 'EF_total_g4', 'EF_total_g5',\n",
    "            'EF_anos_iniciais_g1', 'EF_anos_iniciais_g2', 'EF_anos_iniciais_g3', 'EF_anos_iniciais_g4', 'EF_anos_iniciais_g5',\n",
    "            'EF_anos_finais_g1', 'EF_anos_finais_g2', 'EF_anos_finais_g3', 'EF_anos_finais_g4', 'EF_anos_finais_g5',\n",
    "            'EM_g1', 'EM_g2', 'EM_g3', 'EM_g4', 'EM_g5',\n",
    "            'EJAf_g1', 'EJAf_g2', 'EJAf_g3', 'EJAf_g4', 'EJAf_g5',\n",
    "            'EJAm_g1', 'EJAm_g2', 'EJAm_g3', 'EJAm_g4', 'EJAm_g5']\n",
    "\n",
    "# percentual dos docentes com curso superior\n",
    "dsu_cols = ['ano', 'unidade_geografica', 'localizacao', 'dependencia_administrativa', \n",
    "           'EI_total', 'EI_creche', 'EI_pre_escola',\n",
    "           'EF_total', 'EF_anos_iniciais', 'EF_anos_finais',\n",
    "           'EM', 'EP', 'EJA', 'ES']\n",
    "\n",
    "# regualridade do corpo docente\n",
    "ird_cols = ['ano', 'unidade_geografica', 'localizacao', 'dependencia_administrativa', \n",
    "           'baixa_regularidade(0-|2)', 'media_baixa(2-|3)', 'media_alta(3-|4)', 'alta(4-|5)']\n",
    "\n",
    "# esforco docente\n",
    "ied_cols = ['ano', 'unidade_geografica', 'localizacao', 'dependencia_administrativa',\n",
    "        'EF_total_nvl1', 'EF_total_nvl2','EF_total_nvl3', 'EF_total_nvl4', 'EF_total_nvl5',\n",
    "        'EF_total_nvl6','EF_anos_iniciais_nvl1', 'EF_anos_iniciais_nvl2','EF_anos_iniciais_nvl3', 'EF_anos_iniciais_nvl4', 'EF_anos_iniciais_nvl5', 'EF_anos_iniciais_nvl6','EF_anos_finais_nvl1', 'EF_anos_finais_nvl2','EF_anos_finais_nvl3', 'EF_anos_finais_nvl4', 'EF_anos_finais_nvl5', 'EF_anos_finais_nvl6','EM_nvl1', 'EM_nvl2','EM_nvl3', 'EM_nvl4', 'EM_nvl5', 'EM_nvl6']"
   ],
   "outputs": [],
   "execution_count": 2
  },
  {
   "cell_type": "markdown",
   "id": "5d6f10aa",
   "metadata": {},
   "source": [
    "# 2018"
   ]
  },
  {
   "cell_type": "code",
   "id": "b5209131",
   "metadata": {
    "ExecuteTime": {
     "end_time": "2025-05-21T17:30:20.919788Z",
     "start_time": "2025-05-21T17:30:18.573816Z"
    }
   },
   "source": [
    "df_AFD_2018 = pd.read_excel('../dados2018/AFD_BRASIL_REGIOES_UFS_2018.xlsx', names=afd_cols, header=None, skiprows=11, nrows=587, engine='openpyxl')\n",
    "df_DSU_2018 = pd.read_excel('../dados2018/DSU_BRASIL_REGIOES_UFS_2018_ATUALIZADO.xlsx', names=dsu_cols, header=None, skiprows=10, nrows=587, engine='openpyxl')\n",
    "df_IRD_2018 = pd.read_excel('../dados2018/IRD_BRASIL_REGIOES_UFS_2018.xlsx', names=ird_cols, header=None, skiprows=10, nrows=586, engine='openpyxl')\n",
    "df_IED_2018 = pd.read_excel('../dados2018/IED_BRASIL_REGIOES_UFS_2018.xlsx', names = ied_cols,header=None,skiprows=11, nrows=586, engine='openpyxl')"
   ],
   "outputs": [],
   "execution_count": 3
  },
  {
   "cell_type": "code",
   "id": "b58fcdb3",
   "metadata": {
    "ExecuteTime": {
     "end_time": "2025-05-21T17:30:22.332330Z",
     "start_time": "2025-05-21T17:30:22.314889Z"
    }
   },
   "source": [
    "float_cols = df_AFD_2018.columns.to_list()[4:]\n",
    "df_AFD_2018[float_cols] = df_AFD_2018[float_cols].apply(pd.to_numeric, errors='coerce')"
   ],
   "outputs": [],
   "execution_count": 4
  },
  {
   "cell_type": "markdown",
   "id": "eff0b9502df6226e",
   "metadata": {},
   "source": [
    "Filtrar as linhas para pegar apenas as regioes e excluir colunas que nao iremos utilizar\n",
    "\n"
   ]
  },
  {
   "cell_type": "code",
   "id": "f34b23b542fd5a7d",
   "metadata": {
    "ExecuteTime": {
     "end_time": "2025-05-21T17:30:22.361721Z",
     "start_time": "2025-05-21T17:30:22.353170Z"
    }
   },
   "source": [
    "regioes_AFD_2018 = df_AFD_2018.drop(['EJAf_g1', 'EJAf_g2', 'EJAf_g3', 'EJAf_g4', 'EJAf_g5',\n",
    "           'EJAm_g1', 'EJAm_g2', 'EJAm_g3', 'EJAm_g4', 'EJAm_g5'], axis=1).loc[:107].fillna(0)\n",
    "\n",
    "regioes_DSU_2018 = df_DSU_2018.drop(['EP', 'EJA', 'ES'],axis=1).loc[:107].fillna(0)\n",
    "regioes_IRD_2018 = df_IRD_2018.loc[:107].fillna(0)\n",
    "regioes_IED_2018 = df_IED_2018.loc[:107].fillna(0)"
   ],
   "outputs": [],
   "execution_count": 5
  },
  {
   "metadata": {},
   "cell_type": "markdown",
   "source": "Filtrar por regiao\n",
   "id": "1e8e9dd49fc16d31"
  },
  {
   "metadata": {},
   "cell_type": "markdown",
   "source": "ADF",
   "id": "23ce0f0e9ca51e4d"
  },
  {
   "metadata": {
    "ExecuteTime": {
     "end_time": "2025-05-21T18:16:29.046464Z",
     "start_time": "2025-05-21T18:16:29.038976Z"
    }
   },
   "cell_type": "code",
   "source": [
    "Regioa_Sul_ADF_2018 = regioes_AFD_2018[regioes_AFD_2018[\"unidade_geografica\"]==\"Sul\"]\n",
    "Regioa_Suldeste_ADF_2018 = regioes_AFD_2018[regioes_AFD_2018[\"unidade_geografica\"]==\"Suldeste\"]\n",
    "Regioa_Norte_ADF_2018 = regioes_AFD_2018[regioes_AFD_2018[\"unidade_geografica\"]==\"Norte\"]\n",
    "Regioa_Nordeste_ADF_2018 = regioes_AFD_2018[regioes_AFD_2018[\"unidade_geografica\"]==\"Nordeste\"]\n",
    "Regioa_CentroOeste_ADF_2018 = regioes_AFD_2018[regioes_AFD_2018[\"unidade_geografica\"]==\"Centro-Oeste\"]\n",
    "\n",
    "Regioes_Brasil_ADF_2018= regioes_AFD_2018[regioes_AFD_2018[\"unidade_geografica\"]==\"Brasil\"]\n",
    "\n",
    "\n",
    "\n"
   ],
   "id": "8adcc47e3174dac1",
   "outputs": [],
   "execution_count": 23
  },
  {
   "metadata": {},
   "cell_type": "raw",
   "source": "DSU\n",
   "id": "10896396709fb72c"
  },
  {
   "metadata": {
    "ExecuteTime": {
     "end_time": "2025-05-21T18:34:42.974236Z",
     "start_time": "2025-05-21T18:34:42.965567Z"
    }
   },
   "cell_type": "code",
   "source": [
    "Regioa_Sul_DSU_2018 = regioes_DSU_2018[regioes_DSU_2018[\"unidade_geografica\"]==\"Sul\"]\n",
    "Regioa_Suldeste_DSU_2018 = regioes_DSU_2018[regioes_DSU_2018[\"unidade_geografica\"]==\"Suldeste\"] #Pelo visto nao existe nenhum valor na regio suldeste\n",
    "Regioa_Norte_DSU_2018 = regioes_DSU_2018[regioes_DSU_2018[\"unidade_geografica\"]==\"Norte\"]\n",
    "Regioa_Nordeste_DSU_2018 = regioes_DSU_2018[regioes_DSU_2018[\"unidade_geografica\"]==\"Nordeste\"]\n",
    "Regioa_CentroOeste_DSU_2018 = regioes_DSU_2018[regioes_DSU_2018[\"unidade_geografica\"]==\"Centro-Oeste\"]\n",
    "\n",
    "Regioes_Brasil_DSU_2018= regioes_DSU_2018[regioes_DSU_2018[\"unidade_geografica\"]==\"Brasil\"]\n",
    "\n",
    "print(Regioa_Suldeste_ADF_2018)"
   ],
   "id": "fd666c475294f9ea",
   "outputs": [
    {
     "name": "stdout",
     "output_type": "stream",
     "text": [
      "Empty DataFrame\n",
      "Columns: [ano, unidade_geografica, localizacao, dependencia_administrativa, EI_g1, EI_g2, EI_g3, EI_g4, EI_g5, EF_total_g1, EF_total_g2, EF_total_g3, EF_total_g4, EF_total_g5, EF_anos_iniciais_g1, EF_anos_iniciais_g2, EF_anos_iniciais_g3, EF_anos_iniciais_g4, EF_anos_iniciais_g5, EF_anos_finais_g1, EF_anos_finais_g2, EF_anos_finais_g3, EF_anos_finais_g4, EF_anos_finais_g5, EM_g1, EM_g2, EM_g3, EM_g4, EM_g5]\n",
      "Index: []\n",
      "\n",
      "[0 rows x 29 columns]\n"
     ]
    }
   ],
   "execution_count": 38
  },
  {
   "metadata": {},
   "cell_type": "markdown",
   "source": "IRD",
   "id": "3c301959521c6ed2"
  },
  {
   "metadata": {},
   "cell_type": "code",
   "source": [
    "Regioa_Sul_IRD_2018 = regioes_IRD_2018[regioes_IRD_2018[\"unidade_geografica\"]==\"Sul\"]\n",
    "Regioa_Suldeste_IRD_2018 = regioes_IRD_2018[regioes_IRD_2018[\"unidade_geografica\"]==\"Suldeste\"]\n",
    "Regioa_Norte_IRD_2018 = regioes_IRD_2018[regioes_IRD_2018[\"unidade_geografica\"]==\"Norte\"]\n",
    "Regioa_Nordeste_IRD_2018 = regioes_IRD_2018[regioes_IRD_2018[\"unidade_geografica\"]==\"Nordeste\"]\n",
    "Regioa_CentroOeste_IRD_2018 = regioes_IRD_2018[regioes_IRD_2018[\"unidade_geografica\"]==\"Centro-Oeste\"]\n",
    "\n",
    "Regioes_Brasil_IRD_2018= regioes_IRD_2018[regioes_IRD_2018[\"unidade_geografica\"]==\"Brasil\"]\n"
   ],
   "id": "323af6be7ac420e4",
   "outputs": [],
   "execution_count": null
  },
  {
   "metadata": {},
   "cell_type": "markdown",
   "source": "IED",
   "id": "25cc7bd730f3b40d"
  },
  {
   "metadata": {},
   "cell_type": "code",
   "source": [
    "Regioa_Sul_IED_2018 = regioes_IED_2018[regioes_IED_2018[\"unidade_geografica\"]==\"Sul\"]\n",
    "Regioa_Suldeste_IED_2018 = regioes_IED_2018[regioes_IED_2018[\"unidade_geografica\"]==\"Suldeste\"]\n",
    "Regioa_Norte_IED_2018 = regioes_IED_2018[regioes_IED_2018[\"unidade_geografica\"]==\"Norte\"]\n",
    "Regioa_Nordeste_IED_2018 = regioes_IED_2018[regioes_IED_2018[\"unidade_geografica\"]==\"Nordeste\"]\n",
    "Regioa_CentroOeste_IED_2018 = regioes_IED_2018[regioes_IED_2018[\"unidade_geografica\"]==\"Centro-Oeste\"]\n",
    "\n",
    "Regioes_Brasil_IED_2018= regioes_IED_2018[regioes_IED_2018[\"unidade_geografica\"]==\"Brasil\"]\n",
    "\n"
   ],
   "id": "ccc4ec51ea695cf7",
   "outputs": [],
   "execution_count": null
  },
  {
   "cell_type": "markdown",
   "id": "86b7825a",
   "metadata": {},
   "source": [
    "# 2019"
   ]
  },
  {
   "cell_type": "code",
   "id": "8abdcdbd",
   "metadata": {
    "ExecuteTime": {
     "end_time": "2025-05-21T17:30:23.042984Z",
     "start_time": "2025-05-21T17:30:22.392035Z"
    }
   },
   "source": [
    "df_AFD_2019 = pd.read_excel('../dados2019/AFD_BRASIL_REGIOES_UFS_2019.xlsx', names=afd_cols, header=None, skiprows=11, nrows=587, engine='openpyxl')\n",
    "df_DSU_2019 = pd.read_excel('../dados2019/DSU_BRASIL_REGIOES_UFS_2019.xlsx', names=dsu_cols, header=None, skiprows=10, nrows=587, engine='openpyxl')\n",
    "df_IRD_2019 = pd.read_excel('../dados2019/IRD_BRASIL_REGIOES_UFS_2019.xlsx', names=ird_cols, header=None, skiprows=10, nrows=586, engine='openpyxl')\n",
    "df_IED_2019 = pd.read_excel('../dados2019/IED_BRASIL_REGIOES_UFS_2019.xlsx', names = ied_cols,header=None,skiprows=11, nrows=586, engine='openpyxl')\n"
   ],
   "outputs": [],
   "execution_count": 6
  },
  {
   "metadata": {},
   "cell_type": "markdown",
   "source": [
    "Filtrar as linhas para pegar apenas as regioes e excluir colunas que nao iremos utilizar\n",
    "\n"
   ],
   "id": "5038eb15da7ee724"
  },
  {
   "metadata": {
    "ExecuteTime": {
     "end_time": "2025-05-21T17:30:23.092578Z",
     "start_time": "2025-05-21T17:30:23.086497Z"
    }
   },
   "cell_type": "code",
   "source": [
    "regioes_AFD_2019 = df_AFD_2019.drop(['EJAf_g1', 'EJAf_g2', 'EJAf_g3', 'EJAf_g4', 'EJAf_g5',\n",
    "           'EJAm_g1', 'EJAm_g2', 'EJAm_g3', 'EJAm_g4', 'EJAm_g5'], axis=1).loc[:107].fillna(0)\n",
    "\n",
    "regioes_DSU_2019 = df_DSU_2019.drop(['EP', 'EJA', 'ES'],axis=1).loc[:107].fillna(0)\n",
    "regioes_IRD_2019 = df_IRD_2019.loc[:107].fillna(0)\n",
    "regioes_IED_2019 = df_IED_2019.loc[:107].fillna(0)"
   ],
   "id": "4bb14a2e41941af",
   "outputs": [],
   "execution_count": 7
  },
  {
   "metadata": {},
   "cell_type": "markdown",
   "source": "ADF",
   "id": "e60ca07ad7c5f106"
  },
  {
   "metadata": {
    "ExecuteTime": {
     "end_time": "2025-05-21T18:16:29.046464Z",
     "start_time": "2025-05-21T18:16:29.038976Z"
    }
   },
   "cell_type": "code",
   "outputs": [],
   "execution_count": 23,
   "source": [
    "Regioa_Sul_ADF_2019 = regioes_AFD_2019[regioes_AFD_2019[\"unidade_geografica\"]==\"Sul\"]\n",
    "Regioa_Suldeste_ADF_2019 = regioes_AFD_2019[regioes_AFD_2019[\"unidade_geografica\"]==\"Suldeste\"]\n",
    "Regioa_Norte_ADF_2019 = regioes_AFD_2019[regioes_AFD_2019[\"unidade_geografica\"]==\"Norte\"]\n",
    "Regioa_Nordeste_ADF_2019 = regioes_AFD_2019[regioes_AFD_2019[\"unidade_geografica\"]==\"Nordeste\"]\n",
    "Regioa_CentroOeste_ADF_2019 = regioes_AFD_2019[regioes_AFD_2019[\"unidade_geografica\"]==\"Centro-Oeste\"]\n",
    "\n",
    "Regioes_Brasil_ADF_2019= regioes_AFD_2019[regioes_AFD_2019[\"unidade_geografica\"]==\"Brasil\"]\n",
    "\n"
   ],
   "id": "acce07c3dce11e44"
  },
  {
   "metadata": {},
   "cell_type": "raw",
   "source": "DSU\n",
   "id": "53fbe6633bb022f5"
  },
  {
   "metadata": {},
   "cell_type": "code",
   "outputs": [],
   "execution_count": null,
   "source": [
    "Regioa_Sul_DSU_2019 = regioes_DSU_2019[regioes_DSU_2019[\"unidade_geografica\"]==\"Sul\"]\n",
    "Regioa_Suldeste_DSU_2019 = regioes_DSU_2019[regioes_DSU_2019[\"unidade_geografica\"]==\"Suldeste\"] #Pelo visto nao existe nenhum valor na regio suldeste\n",
    "Regioa_Norte_DSU_2019 = regioes_DSU_2019[regioes_DSU_2019[\"unidade_geografica\"]==\"Norte\"]\n",
    "Regioa_Nordeste_DSU_2019 = regioes_DSU_2019[regioes_DSU_2019[\"unidade_geografica\"]==\"Nordeste\"]\n",
    "Regioa_CentroOeste_DSU_2019 = regioes_DSU_2019[regioes_DSU_2019[\"unidade_geografica\"]==\"Centro-Oeste\"]\n",
    "\n",
    "Regioes_Brasil_DSU_2019= regioes_DSU_2019[regioes_DSU_2019[\"unidade_geografica\"]==\"Brasil\"]\n"
   ],
   "id": "c011d3c1333782cd"
  },
  {
   "metadata": {},
   "cell_type": "markdown",
   "source": "IRD",
   "id": "a33e8d2e716b0dbe"
  },
  {
   "metadata": {},
   "cell_type": "code",
   "outputs": [],
   "execution_count": null,
   "source": [
    "Regioa_Sul_IRD_2019 = regioes_IRD_2019[regioes_IRD_2019[\"unidade_geografica\"]==\"Sul\"]\n",
    "Regioa_Suldeste_IRD_2019 = regioes_IRD_2019[regioes_IRD_2019[\"unidade_geografica\"]==\"Suldeste\"]\n",
    "Regioa_Norte_IRD_2019 = regioes_IRD_2019[regioes_IRD_2019[\"unidade_geografica\"]==\"Norte\"]\n",
    "Regioa_Nordeste_IRD_2019 = regioes_IRD_2019[regioes_IRD_2019[\"unidade_geografica\"]==\"Nordeste\"]\n",
    "Regioa_CentroOeste_IRD_2019 = regioes_IRD_2019[regioes_IRD_2019[\"unidade_geografica\"]==\"Centro-Oeste\"]\n",
    "\n",
    "Regioes_Brasil_IRD_2019= regioes_IRD_2019[regioes_IRD_2019[\"unidade_geografica\"]==\"Brasil\"]\n",
    "\n"
   ],
   "id": "635b09c5697acf7a"
  },
  {
   "metadata": {},
   "cell_type": "markdown",
   "source": "IED",
   "id": "110154b175aecc3a"
  },
  {
   "metadata": {},
   "cell_type": "code",
   "source": [
    "Regioa_Sul_IED_2019 = regioes_IED_2019[regioes_IED_2019[\"unidade_geografica\"]==\"Sul\"]\n",
    "Regioa_Suldeste_IED_2019 = regioes_IED_2019[regioes_IED_2019[\"unidade_geografica\"]==\"Suldeste\"]\n",
    "Regioa_Norte_IED_2019 = regioes_IED_2019[regioes_IED_2019[\"unidade_geografica\"]==\"Norte\"]\n",
    "Regioa_Nordeste_IED_2019 = regioes_IED_2019[regioes_IED_2019[\"unidade_geografica\"]==\"Nordeste\"]\n",
    "Regioa_CentroOeste_IED_2019 = regioes_IED_2019[regioes_IED_2019[\"unidade_geografica\"]==\"Centro-Oeste\"]\n",
    "\n",
    "Regioes_Brasil_IED_2019= regioes_IED_2019[regioes_IED_2019[\"unidade_geografica\"]==\"Brasil\"]\n",
    "\n"
   ],
   "id": "c10ea8fba129059b",
   "outputs": [],
   "execution_count": null
  },
  {
   "metadata": {},
   "cell_type": "markdown",
   "source": "# 2022",
   "id": "100f60d1"
  },
  {
   "cell_type": "code",
   "id": "c54390d6",
   "metadata": {
    "ExecuteTime": {
     "end_time": "2025-05-21T17:30:23.781481Z",
     "start_time": "2025-05-21T17:30:23.146588Z"
    }
   },
   "source": [
    "df_AFD_2022 = pd.read_excel('../dados2022/AFD_BRASIL_REGIOES_UFS_2022.xlsx', names=afd_cols, header=None, skiprows=11, nrows=587, engine='openpyxl')\n",
    "df_DSU_2022 = pd.read_excel('../dados2022/DSU_BRASIL_REGIOES_UFS_2022.xlsx', names=dsu_cols, header=None, skiprows=10, nrows=587, engine='openpyxl')\n",
    "df_IRD_2022 = pd.read_excel('../dados2022/IRD_BRASIL_REGIOES_UFS_2022.xlsx', names=ird_cols, header=None, skiprows=10, nrows=586, engine='openpyxl')\n",
    "df_IED_2022 = pd.read_excel('../dados2022/IED_BRASIL_REGIOES_UFS_2022.xlsx', names = ied_cols,header=None,skiprows=11, nrows=586, engine='openpyxl')\n"
   ],
   "outputs": [],
   "execution_count": 8
  },
  {
   "cell_type": "code",
   "id": "52b0c30b",
   "metadata": {
    "ExecuteTime": {
     "end_time": "2025-05-21T17:30:23.864497Z",
     "start_time": "2025-05-21T17:30:23.845493Z"
    }
   },
   "source": [
    "float_cols = df_AFD_2022.columns.to_list()[4:]\n",
    "df_AFD_2022[float_cols] = df_AFD_2022[float_cols].apply(pd.to_numeric, errors='coerce')\n",
    "float_cols = df_DSU_2022.columns.to_list()[4:]\n",
    "df_DSU_2022[float_cols] = df_DSU_2022[float_cols].apply(pd.to_numeric, errors='coerce')"
   ],
   "outputs": [],
   "execution_count": 9
  },
  {
   "cell_type": "markdown",
   "id": "a475b1e68d8b11cd",
   "metadata": {},
   "source": [
    "Filtrar as linhas para pegar apenas as regioes e excluir colunas que nao iremos utilizar\n"
   ]
  },
  {
   "cell_type": "code",
   "id": "2887d2a87a987515",
   "metadata": {
    "ExecuteTime": {
     "end_time": "2025-05-21T17:30:23.939567Z",
     "start_time": "2025-05-21T17:30:23.930807Z"
    }
   },
   "source": [
    "regioes_AFD_2022 = df_AFD_2022.drop(['EJAf_g1', 'EJAf_g2', 'EJAf_g3', 'EJAf_g4', 'EJAf_g5',\n",
    "           'EJAm_g1', 'EJAm_g2', 'EJAm_g3', 'EJAm_g4', 'EJAm_g5'], axis=1).loc[:107].fillna(0)\n",
    "\n",
    "regioes_DSU_2022 = df_DSU_2022.drop(['EP', 'EJA', 'ES'],axis=1).loc[:107].fillna(0)\n",
    "regioes_IRD_2022 = df_IRD_2022.loc[:107].fillna(0)\n",
    "regioes_IED_2022 = df_IED_2022.loc[:107].fillna(0)"
   ],
   "outputs": [],
   "execution_count": 10
  },
  {
   "metadata": {},
   "cell_type": "markdown",
   "source": "ADF",
   "id": "4334b5c7bbdd3ab1"
  },
  {
   "metadata": {
    "ExecuteTime": {
     "end_time": "2025-05-21T18:29:48.161928Z",
     "start_time": "2025-05-21T18:29:48.154058Z"
    }
   },
   "cell_type": "code",
   "source": [
    "Regioa_Sul_ADF_2022 = regioes_AFD_2022[regioes_AFD_2022[\"unidade_geografica\"]==\"Sul\"]\n",
    "Regioa_Suldeste_ADF_2022 = regioes_AFD_2022[regioes_AFD_2022[\"unidade_geografica\"]==\"Suldeste\"]\n",
    "Regioa_Norte_ADF_2022 = regioes_AFD_2022[regioes_AFD_2022[\"unidade_geografica\"]==\"Norte\"]\n",
    "Regioa_Nordeste_ADF_2022 = regioes_AFD_2022[regioes_AFD_2022[\"unidade_geografica\"]==\"Nordeste\"]\n",
    "Regioa_CentroOeste_ADF_2022 = regioes_AFD_2022[regioes_AFD_2022[\"unidade_geografica\"]==\"Centro-Oeste\"]\n",
    "\n",
    "Regioes_Brasil_ADF_2022= regioes_AFD_2022[regioes_AFD_2022[\"unidade_geografica\"]==\"Brasil\"]\n",
    "\n",
    "\n"
   ],
   "id": "1f165ccbb00035e6",
   "outputs": [],
   "execution_count": 35
  },
  {
   "metadata": {},
   "cell_type": "raw",
   "source": "DSU\n",
   "id": "75ff980f321d60f"
  },
  {
   "metadata": {},
   "cell_type": "code",
   "source": [
    "Regioa_Sul_DSU_2022 = regioes_DSU_2022[regioes_DSU_2022[\"unidade_geografica\"]==\"Sul\"]\n",
    "Regioa_Suldeste_DSU_2022 = regioes_DSU_2022[regioes_DSU_2022[\"unidade_geografica\"]==\"Suldeste\"] #Pelo visto nao existe nenhum valor na regio suldeste\n",
    "Regioa_Norte_DSU_2022 = regioes_DSU_2022[regioes_DSU_2022[\"unidade_geografica\"]==\"Norte\"]\n",
    "Regioa_Nordeste_DSU_2022 = regioes_DSU_2022[regioes_DSU_2022[\"unidade_geografica\"]==\"Nordeste\"]\n",
    "Regioa_CentroOeste_DSU_2022 = regioes_DSU_2022[regioes_DSU_2022[\"unidade_geografica\"]==\"Centro-Oeste\"]\n",
    "\n",
    "Regioes_Brasil_DSU_2022= regioes_DSU_2022[regioes_DSU_2022[\"unidade_geografica\"]==\"Brasil\"]\n"
   ],
   "id": "5edda82f6d0e2ca3",
   "outputs": [],
   "execution_count": null
  },
  {
   "metadata": {},
   "cell_type": "markdown",
   "source": "IRD",
   "id": "4c82551dc82ee532"
  },
  {
   "metadata": {},
   "cell_type": "code",
   "outputs": [],
   "execution_count": null,
   "source": [
    "Regioa_Sul_IRD_2022 = regioes_IRD_2022[regioes_IRD_2022[\"unidade_geografica\"]==\"Sul\"]\n",
    "Regioa_Suldeste_IRD_2022 = regioes_IRD_2022[regioes_IRD_2022[\"unidade_geografica\"]==\"Suldeste\"]\n",
    "Regioa_Norte_IRD_2022 = regioes_IRD_2022[regioes_IRD_2022[\"unidade_geografica\"]==\"Norte\"]\n",
    "Regioa_Nordeste_IRD_2022 = regioes_IRD_2022[regioes_IRD_2022[\"unidade_geografica\"]==\"Nordeste\"]\n",
    "Regioa_CentroOeste_IRD_2022 = regioes_IRD_2022[regioes_IRD_2022[\"unidade_geografica\"]==\"Centro-Oeste\"]\n",
    "\n",
    "Regioes_Brasil_IRD_2022= regioes_IRD_2022[regioes_IRD_2022[\"unidade_geografica\"]==\"Brasil\"]\n"
   ],
   "id": "617a632d91cdafc3"
  },
  {
   "metadata": {},
   "cell_type": "markdown",
   "source": "IED",
   "id": "80cd41a329cf565a"
  },
  {
   "metadata": {},
   "cell_type": "code",
   "outputs": [],
   "execution_count": null,
   "source": [
    "Regioa_Sul_IED_2022 = regioes_IED_2022[regioes_IED_2022[\"unidade_geografica\"]==\"Sul\"]\n",
    "Regioa_Suldeste_IED_2022 = regioes_IED_2022[regioes_IED_2022[\"unidade_geografica\"]==\"Suldeste\"]\n",
    "Regioa_Norte_IED_2022 = regioes_IED_2022[regioes_IED_2022[\"unidade_geografica\"]==\"Norte\"]\n",
    "Regioa_Nordeste_IED_2022 = regioes_IED_2022[regioes_IED_2022[\"unidade_geografica\"]==\"Nordeste\"]\n",
    "Regioa_CentroOeste_IED_2022 = regioes_IED_2022[regioes_IED_2022[\"unidade_geografica\"]==\"Centro-Oeste\"]\n",
    "\n",
    "Regioes_Brasil_IED_2022= regioes_IED_2022[regioes_IED_2022[\"unidade_geografica\"]==\"Brasil\"]\n"
   ],
   "id": "f7cedbd85d413300"
  },
  {
   "cell_type": "markdown",
   "id": "9c12aa5a",
   "metadata": {},
   "source": [
    "# 2023"
   ]
  },
  {
   "cell_type": "code",
   "id": "fdd6dd83",
   "metadata": {
    "scrolled": true,
    "ExecuteTime": {
     "end_time": "2025-05-21T17:30:24.669332Z",
     "start_time": "2025-05-21T17:30:24.094478Z"
    }
   },
   "source": [
    "df_AFD_2023 = pd.read_excel('../dados2023/AFD_BRASIL_REGIOES_UFS_2023.xlsx', names=afd_cols, header=None, skiprows=11, nrows=587, engine='openpyxl')\n",
    "df_DSU_2023 = pd.read_excel('../dados2023/DSU_BRASIL_REGIOES_UFS_2023.xlsx', names=dsu_cols, header=None, skiprows=10, nrows=587, engine='openpyxl')\n",
    "df_IRD_2023 = pd.read_excel('../dados2023/IRD_BRASIL_REGIOES_UFS_2023.xlsx', names=ird_cols, header=None, skiprows=10, nrows=586, engine='openpyxl')\n",
    "df_IED_2023 = pd.read_excel('../dados2023/IED_BRASIL_REGIOES_UFS_2023.xlsx', names = ied_cols,header=None,skiprows=11, nrows=586, engine='openpyxl')\n"
   ],
   "outputs": [],
   "execution_count": 11
  },
  {
   "cell_type": "code",
   "id": "fe194b71",
   "metadata": {
    "ExecuteTime": {
     "end_time": "2025-05-21T17:30:24.693150Z",
     "start_time": "2025-05-21T17:30:24.674324Z"
    }
   },
   "source": [
    "float_cols = df_AFD_2023.columns.to_list()[4:]\n",
    "df_AFD_2023[float_cols] = df_AFD_2023[float_cols].apply(pd.to_numeric, errors='coerce')\n",
    "float_cols = df_DSU_2023.columns.to_list()[4:]\n",
    "df_DSU_2023[float_cols] = df_DSU_2023[float_cols].apply(pd.to_numeric, errors='coerce')"
   ],
   "outputs": [],
   "execution_count": 12
  },
  {
   "cell_type": "markdown",
   "id": "98f99e6c97e3e3cf",
   "metadata": {},
   "source": [
    "Filtrar as linhas para pegar apenas as regioes e excluir colunas que nao iremos utilizar\n",
    "\n"
   ]
  },
  {
   "cell_type": "code",
   "id": "82d26d5eaabb4a12",
   "metadata": {
    "ExecuteTime": {
     "end_time": "2025-05-21T17:30:24.791368Z",
     "start_time": "2025-05-21T17:30:24.781879Z"
    }
   },
   "source": [
    "regioes_AFD_2023 = df_AFD_2023.drop(['EJAf_g1', 'EJAf_g2', 'EJAf_g3', 'EJAf_g4', 'EJAf_g5',\n",
    "           'EJAm_g1', 'EJAm_g2', 'EJAm_g3', 'EJAm_g4', 'EJAm_g5'], axis=1).loc[:107].fillna(0)\n",
    "\n",
    "regioes_DSU_2023 = df_DSU_2023.drop(['EP', 'EJA', 'ES'],axis=1).loc[:107].fillna(0)\n",
    "regioes_IRD_2023 = df_IRD_2023.loc[:107].fillna(0)\n",
    "regioes_IED_2023 = df_IED_2023.loc[:107].fillna(0)"
   ],
   "outputs": [],
   "execution_count": 13
  },
  {
   "metadata": {},
   "cell_type": "markdown",
   "source": "ADF",
   "id": "f6e08133cdbf7625"
  },
  {
   "metadata": {
    "ExecuteTime": {
     "end_time": "2025-05-21T18:16:29.046464Z",
     "start_time": "2025-05-21T18:16:29.038976Z"
    }
   },
   "cell_type": "code",
   "outputs": [],
   "execution_count": 23,
   "source": [
    "Regioa_Sul_ADF_2023 = regioes_AFD_2023[regioes_AFD_2023[\"unidade_geografica\"]==\"Sul\"]\n",
    "Regioa_Suldeste_ADF_2023 = regioes_AFD_2023[regioes_AFD_2023[\"unidade_geografica\"]==\"Suldeste\"]\n",
    "Regioa_Norte_ADF_2023 = regioes_AFD_2023[regioes_AFD_2023[\"unidade_geografica\"]==\"Norte\"]\n",
    "Regioa_Nordeste_ADF_2023 = regioes_AFD_2023[regioes_AFD_2023[\"unidade_geografica\"]==\"Nordeste\"]\n",
    "Regioa_CentroOeste_ADF_2023 = regioes_AFD_2023[regioes_AFD_2023[\"unidade_geografica\"]==\"Centro-Oeste\"]\n",
    "\n",
    "Regioes_Brasil_ADF_2023= regioes_AFD_2023[regioes_AFD_2023[\"unidade_geografica\"]==\"Brasil\"]\n",
    "\n"
   ],
   "id": "a51c61fe1e46ece6"
  },
  {
   "metadata": {},
   "cell_type": "raw",
   "source": "DSU\n",
   "id": "cd8c7848fc3434db"
  },
  {
   "metadata": {},
   "cell_type": "code",
   "source": [
    "Regioa_Sul_DSU_2023 = regioes_DSU_2023[regioes_DSU_2023[\"unidade_geografica\"]==\"Sul\"]\n",
    "Regioa_Suldeste_DSU_2023 = regioes_DSU_2023[regioes_DSU_2023[\"unidade_geografica\"]==\"Suldeste\"] #Pelo visto nao existe nenhum valor na regio suldeste\n",
    "Regioa_Norte_DSU_2023 = regioes_DSU_2023[regioes_DSU_2023[\"unidade_geografica\"]==\"Norte\"]\n",
    "Regioa_Nordeste_DSU_2023 = regioes_DSU_2023[regioes_DSU_2023[\"unidade_geografica\"]==\"Nordeste\"]\n",
    "Regioa_CentroOeste_DSU_2023 = regioes_DSU_2023[regioes_DSU_2023[\"unidade_geografica\"]==\"Centro-Oeste\"]\n",
    "\n",
    "Regioes_Brasil_DSU_2023= regioes_DSU_2023[regioes_DSU_2023[\"unidade_geografica\"]==\"Brasil\"]"
   ],
   "id": "2628024abec5381",
   "outputs": [],
   "execution_count": null
  },
  {
   "metadata": {},
   "cell_type": "markdown",
   "source": "IRD",
   "id": "5eda51ee0ae47015"
  },
  {
   "metadata": {},
   "cell_type": "code",
   "outputs": [],
   "execution_count": null,
   "source": [
    "Regioa_Sul_IRD_2023 = regioes_IRD_2023[regioes_IRD_2023[\"unidade_geografica\"]==\"Sul\"]\n",
    "Regioa_Suldeste_IRD_2023 = regioes_IRD_2023[regioes_IRD_2023[\"unidade_geografica\"]==\"Suldeste\"]\n",
    "Regioa_Norte_IRD_2023 = regioes_IRD_2023[regioes_IRD_2023[\"unidade_geografica\"]==\"Norte\"]\n",
    "Regioa_Nordeste_IRD_2023 = regioes_IRD_2023[regioes_IRD_2023[\"unidade_geografica\"]==\"Nordeste\"]\n",
    "Regioa_CentroOeste_IRD_2023 = regioes_IRD_2023[regioes_IRD_2023[\"unidade_geografica\"]==\"Centro-Oeste\"]\n",
    "\n",
    "Regioes_Brasil_IRD_2023= regioes_IRD_2023[regioes_IRD_2023[\"unidade_geografica\"]==\"Brasil\"]\n"
   ],
   "id": "8154446e8783cdfd"
  },
  {
   "metadata": {},
   "cell_type": "markdown",
   "source": "IED",
   "id": "929fa616f12b4273"
  },
  {
   "metadata": {},
   "cell_type": "code",
   "outputs": [],
   "execution_count": null,
   "source": [
    "Regioa_Sul_IED_2023 = regioes_IED_2023[regioes_IED_2023[\"unidade_geografica\"]==\"Sul\"]\n",
    "Regioa_Suldeste_IED_2023 = regioes_IED_2023[regioes_IED_2023[\"unidade_geografica\"]==\"Suldeste\"]\n",
    "Regioa_Norte_IED_2023 = regioes_IED_2023[regioes_IED_2023[\"unidade_geografica\"]==\"Norte\"]\n",
    "Regioa_Nordeste_IED_2023 = regioes_IED_2023[regioes_IED_2023[\"unidade_geografica\"]==\"Nordeste\"]\n",
    "Regioa_CentroOeste_IED_2023 = regioes_IED_2023[regioes_IED_2023[\"unidade_geografica\"]==\"Centro-Oeste\"]\n",
    "\n",
    "Regioes_Brasil_IED_2023= regioes_IED_2023[regioes_IED_2023[\"unidade_geografica\"]==\"Brasil\"]"
   ],
   "id": "99dc51ac22cfe404"
  },
  {
   "cell_type": "markdown",
   "id": "99dafc74",
   "metadata": {},
   "source": [
    "### Verificação para saber se todos possuem o mesmo shape"
   ]
  },
  {
   "cell_type": "code",
   "id": "33c815e4",
   "metadata": {
    "ExecuteTime": {
     "end_time": "2025-05-21T17:30:24.898162Z",
     "start_time": "2025-05-21T17:30:24.891160Z"
    }
   },
   "source": [
    "    bases = ['AFD', 'DSU', 'IED', 'IRD']\n",
    "    anos = [2018, 2019, 2022, 2023]\n",
    "\n",
    "    # Comparar os dataframes com prefixo 'df_'\n",
    "    print(\"\\nComparações para 'df_':\")\n",
    "    dif_dfs = []\n",
    "    for base in bases:\n",
    "        shape_2018 = globals()[f\"df_{base}_2018\"].shape\n",
    "\n",
    "        for ano in anos:\n",
    "            nome_df = f\"df_{base}_{ano}\"\n",
    "            df = globals()[nome_df]\n",
    "            same_shape = df.shape == shape_2018\n",
    "            if not same_shape:\n",
    "                print(f\"{nome_df} → Shape diferente: {df.shape}, esperado: {shape_2018}\")\n",
    "                dif_dfs.append(nome_df)\n",
    "    if not dif_dfs:\n",
    "        print(\"Todos os DataFrames 'df_' têm o mesmo shape que os de 2018.\")\n",
    "    else:\n",
    "        print(\"Alguns DataFrames 'df_' têm shape diferente dos de 2018.\")\n",
    "\n",
    "    print()\n",
    "\n",
    "    # Comparar os dataframes com prefixo 'regioes_'\n",
    "    print(\"Comparações para 'regioes_':\")\n",
    "    dif_regioes = []\n",
    "    for base in bases:\n",
    "        shape_2018 = globals()[f\"regioes_{base}_2018\"].shape\n",
    "\n",
    "        for ano in anos:\n",
    "            nome_df = f\"regioes_{base}_{ano}\"\n",
    "            df = globals()[nome_df]\n",
    "            same_shape = df.shape == shape_2018\n",
    "            if not same_shape:\n",
    "                print(f\"{nome_df} → Shape diferente: {df.shape}, esperado: {shape_2018}\")\n",
    "                dif_regioes.append(nome_df)\n",
    "\n",
    "    if not dif_regioes:\n",
    "        print(\"Todos os DataFrames 'regioes_' têm o mesmo shape que os de 2018.\")\n",
    "    else:\n",
    "        print(\"Alguns DataFrames 'regioes_' têm shape diferente dos de 2018.\")\n"
   ],
   "outputs": [
    {
     "name": "stdout",
     "output_type": "stream",
     "text": [
      "\n",
      "Comparações para 'df_':\n",
      "Todos os DataFrames 'df_' têm o mesmo shape que os de 2018.\n",
      "\n",
      "Comparações para 'regioes_':\n",
      "Todos os DataFrames 'regioes_' têm o mesmo shape que os de 2018.\n"
     ]
    }
   ],
   "execution_count": 14
  },
  {
   "cell_type": "markdown",
   "id": "9e1f086c",
   "metadata": {},
   "source": [
    "Calculos estastisco\n",
    "\n",
    "Média: Calcula a média aritmética de uma coluna.\n",
    "\n",
    "Desvio Padrão: Mede a dispersão dos dados em relação à média.\n",
    "\n",
    "Correlação: Mede a relação linear entre duas variáveis (pode ser positiva, negativa ou nenhuma correlação).\n",
    "\n",
    "Total de Instâncias: Conta o número de valores não nulos na coluna (ou seja, quantos dados válidos existem).\n",
    "\n",
    "Coeficiente de Variação: Indica a dispersão relativa em relação à média, expresso em percentual.\n",
    "\n",
    "Coeficiente de Correlação de Pearson: Mede a relação linear entre duas variáveis (em valores entre -1 e 1).\n"
   ]
  },
  {
   "cell_type": "code",
   "id": "f43cc6ff",
   "metadata": {
    "ExecuteTime": {
     "end_time": "2025-05-21T07:15:01.296848Z",
     "start_time": "2025-05-21T07:15:01.291454Z"
    }
   },
   "source": [
    "# sensivel a valores proximos de zero, o CV pode ficar exageradamente alto\n",
    "def coeficiente_variacao(df, col):\n",
    "    \"\"\" Indica a dispersão relativa em relação à média, expresso em percentual \"\"\"\n",
    "    desvio_padrao = df[col].std()\n",
    "    media = df[col].mean()\n",
    "    return (desvio_padrao / media) * 100\n",
    "\n",
    "def media(df, col):\n",
    "    \"Media de uma coluna\"\n",
    "    return df[col].mean()\n",
    "\n",
    "def desvio_padrao(df, col):\n",
    "    \"Calcula o desvio padrão (populacional) da coluna especificada\"\n",
    "    return df[col].std()\n",
    "\n",
    "def coeficiente_variacao(df, col):\n",
    "    \" Indica a dispersão relativa em relação à média, expresso em percentual.\"\n",
    "    \"Se a média for zero, retorna np.inf para indicar divisão por zero.\"\n",
    "    media_col = df[col].mean()\n",
    "    if media_col == 0:\n",
    "        return float('inf')\n",
    "    desvio = df[col].std()\n",
    "    return (desvio / media_col) * 100\n",
    "\n",
    "def correlacao_pearson(df, col_x, col_y):\n",
    "    \"Calcula o coeficiente de correlação de Pearson entre duas colunas numéricas.\"\n",
    "    \"O resultado varia entre -1 e +1.\"\n",
    "    return df[col_x].corr(df[col_y], method='pearson')"
   ],
   "outputs": [],
   "execution_count": 50
  },
  {
   "metadata": {},
   "cell_type": "markdown",
   "source": [
    "Media, Coeficiente de variacao, desvio padrao para qualquer coluna,periodo e data set infromado\n",
    "\n"
   ],
   "id": "760ae569519305ca"
  },
  {
   "metadata": {},
   "cell_type": "code",
   "source": [
    "\"\"\"def analisar_metricas_afd(colunas, anos, df):\n",
    "    for ano in anos:\n",
    "        dfv = globals().get(f\"regioes_{df}_{ano}\")\n",
    "        if dfv is None:\n",
    "            print(f\"DataFrame df_{df}_{ano} não encontrado.\")\n",
    "            continue\n",
    "        for col in colunas:\n",
    "            if col not in dfv.columns:\n",
    "                print(f\"Coluna {col} não encontrada em df_{df}_{ano}\")\n",
    "                continue\n",
    "            serie = dfv[col].dropna()\n",
    "            media = serie.mean()\n",
    "            desvio = serie.std()\n",
    "            cv = (desvio / media * 100) if media != 0 else float('inf')\n",
    "            print(f\"AFD_{ano} | {col:15} → média={media:.2f}, desvio={desvio:.2f}, CV={cv:.1f}%\")\"\"\"\n"
   ],
   "id": "4f93737da96df3e",
   "outputs": [],
   "execution_count": null
  },
  {
   "metadata": {},
   "cell_type": "markdown",
   "source": "agora calcula em relacao a cada regiao (sul, norte,sudeste...)",
   "id": "6c8340fc5354bee2"
  },
  {
   "metadata": {
    "ExecuteTime": {
     "end_time": "2025-05-21T07:57:18.780630Z",
     "start_time": "2025-05-21T07:57:18.760696Z"
    }
   },
   "cell_type": "code",
   "source": [
    "import pandas as pd\n",
    "from ydata_profiling import ProfileReport\n",
    "import os\n",
    "import matplotlib.pyplot as plt\n",
    "from pandas.plotting import scatter_matrix\n",
    "\n",
    "def analisar_metricas_afd(\n",
    "    colunas,\n",
    "    anos,\n",
    "    df_prefixo,\n",
    "    arquivo_saida=None,\n",
    "    precisao_media=2,\n",
    "    precisao_desvio=2,\n",
    "    precisao_cv=1,\n",
    "    incluir_contagem=True,\n",
    "    gerar_relatorio_eda=True,\n",
    "    pasta_relatorios=\"relatorios_eda\",\n",
    "    gerar_graficos=True,\n",
    "    pasta_graficos=None\n",
    "):\n",
    "    \"\"\"\n",
    "    Gera métricas descritivas, salva em Excel, gera relatório EDA e gráficos de comparação.\n",
    "\n",
    "    Parâmetros:\n",
    "        colunas: lista de variáveis (exclui 'unidade_geografica', 'ano').\n",
    "        anos: lista de anos para buscar DataFrames globais.\n",
    "        df_prefixo: prefixo dos DataFrames e nomes de arquivo.\n",
    "        arquivo_saida: nome do Excel de saída.\n",
    "        precisao_*: casas decimais.\n",
    "        incluir_contagem: inclui contagem N.\n",
    "        gerar_relatorio_eda: gera HTML de EDA.\n",
    "        pasta_relatorios: pasta para os HTML.\n",
    "        gerar_graficos: gera gráficos de barras, linhas e comparativos.\n",
    "        pasta_graficos: pasta para salvar gráficos (padrão 'graficos_{prefixo}').\n",
    "    \"\"\"\n",
    "    # Ajustes iniciais\n",
    "    cols = [c for c in colunas if c not in ('unidade_geografica', 'ano')]\n",
    "    if arquivo_saida is None:\n",
    "        arquivo_saida = f\"metricas_{df_prefixo}.xlsx\"\n",
    "    if not arquivo_saida.lower().endswith('.xlsx'):\n",
    "        arquivo_saida += '.xlsx'\n",
    "\n",
    "    # Pastas de saída\n",
    "    if gerar_relatorio_eda:\n",
    "        os.makedirs(pasta_relatorios, exist_ok=True)\n",
    "    if gerar_graficos:\n",
    "        pasta_graficos = pasta_graficos or f\"graficos_{df_prefixo}\"\n",
    "        os.makedirs(pasta_graficos, exist_ok=True)\n",
    "\n",
    "    # Coleta métricas\n",
    "    registros = []\n",
    "    for ano in anos:\n",
    "        nome_df = f\"regioes_{df_prefixo}_{ano}\"\n",
    "        dfv = globals().get(nome_df)\n",
    "        if dfv is None or 'unidade_geografica' not in dfv.columns:\n",
    "            print(f\"Ignorado: {nome_df} ausente ou sem coluna unidade_geografica.\")\n",
    "            continue\n",
    "        for regiao in dfv['unidade_geografica'].unique():\n",
    "            if regiao == 'Brasil':\n",
    "                continue\n",
    "            linha = {'unidade_geografica': regiao, 'ano': ano}\n",
    "            df_reg = dfv[dfv['unidade_geografica'] == regiao]\n",
    "            for col in cols:\n",
    "                serie = pd.to_numeric(df_reg[col], errors='coerce').dropna() if col in dfv.columns else pd.Series(dtype=float)\n",
    "                n = serie.count()\n",
    "                if incluir_contagem:\n",
    "                    linha[f\"{col}_contagem\"] = int(n)\n",
    "                if n > 0:\n",
    "                    linha[f\"{col}_média\"] = round(serie.mean(), precisao_media)\n",
    "                    linha[f\"{col}_desvio\"] = round(serie.std(), precisao_desvio)\n",
    "                    linha[f\"{col}_CV\"] = (round(serie.std()/serie.mean()*100, precisao_cv) if serie.mean()!=0 else None)\n",
    "                else:\n",
    "                    linha[f\"{col}_média\"] = None\n",
    "                    linha[f\"{col}_desvio\"] = None\n",
    "                    linha[f\"{col}_CV\"] = None\n",
    "            registros.append(linha)\n",
    "\n",
    "    df_long = pd.DataFrame(registros)\n",
    "    # Linha Brasil por ano\n",
    "    brasils = []\n",
    "    for ano in sorted(df_long['ano'].unique()):\n",
    "        df_ano = df_long[df_long['ano'] == ano]\n",
    "        resumo = df_ano.select_dtypes(include='number').mean().to_dict()\n",
    "        resumo.update({'unidade_geografica': 'Brasil', 'ano': ano})\n",
    "        brasils.append(resumo)\n",
    "    if brasils:\n",
    "        df_long = pd.concat([df_long, pd.DataFrame(brasils)], ignore_index=True)\n",
    "    # Ordena colunas\n",
    "    metric_cols = []\n",
    "    for col in cols:\n",
    "        if incluir_contagem:\n",
    "            metric_cols.append(f\"{col}_contagem\")\n",
    "        metric_cols += [f\"{col}_média\", f\"{col}_desvio\", f\"{col}_CV\"]\n",
    "    df_long = df_long[['unidade_geografica', 'ano'] + metric_cols]\n",
    "    # Exporta Excel\n",
    "    with pd.ExcelWriter(arquivo_saida, engine='openpyxl') as writer:\n",
    "        sheet_name = df_prefixo[:31]\n",
    "        df_long.to_excel(writer, sheet_name=sheet_name, index=False)\n",
    "    print(f\"'{arquivo_saida}' gerado: {df_long.shape[0]} linhas x {df_long.shape[1]} cols.\")\n",
    "\n",
    "    if gerar_graficos:\n",
    "        # Gráficos individuais por métrica (barras e linhas) e heatmap\n",
    "        for mc in metric_cols:\n",
    "            # barras por ano\n",
    "            for ano in df_long['ano'].unique():\n",
    "                dfp = df_long[df_long['ano'] == ano]\n",
    "                plt.figure()\n",
    "                plt.bar(dfp['unidade_geografica'], dfp[mc])\n",
    "                plt.title(f\"{mc} por região em {ano}\")\n",
    "                plt.xlabel('Região')\n",
    "                plt.ylabel(mc)\n",
    "                plt.xticks(rotation=45, ha='right')\n",
    "                plt.tight_layout()\n",
    "                plt.savefig(os.path.join(pasta_graficos, f\"{df_prefixo}_{mc}_bar_{ano}.png\"))\n",
    "                plt.close()\n",
    "            # linhas por região\n",
    "            for reg in df_long['unidade_geografica'].unique():\n",
    "                dfr = df_long[df_long['unidade_geografica'] == reg]\n",
    "                plt.figure()\n",
    "                plt.plot(dfr['ano'], dfr[mc], marker='o')\n",
    "                plt.title(f\"Evolução de {mc} - {reg}\")\n",
    "                plt.xlabel('Ano')\n",
    "                plt.ylabel(mc)\n",
    "                plt.xticks(dfr['ano'])\n",
    "                plt.tight_layout()\n",
    "                plt.savefig(os.path.join(pasta_graficos, f\"{df_prefixo}_{mc}_line_{reg}.png\"))\n",
    "                plt.close()\n",
    "        # heatmap\n",
    "        corr = df_long.select_dtypes(include='number').corr()\n",
    "        plt.figure()\n",
    "        plt.imshow(corr, aspect='auto')\n",
    "        plt.colorbar()\n",
    "        ticks = list(range(len(corr.columns)))\n",
    "        plt.xticks(ticks, corr.columns, rotation=90)\n",
    "        plt.yticks(ticks, corr.index)\n",
    "        plt.title('Heatmap de Correlação das Métricas')\n",
    "        plt.tight_layout()\n",
    "        plt.savefig(os.path.join(pasta_graficos, f\"{df_prefixo}_correlation_heatmap.png\"))\n",
    "        plt.close()\n",
    "        print(f\"Gráficos salvos em: {pasta_graficos}\")\n",
    "\n",
    "        # Gráfico comparativo de métricas ao longo dos anos (Brasil)\n",
    "        df_brasil = df_long[df_long['unidade_geografica'] == 'Brasil']\n",
    "        # Plot múltiplas séries: médias\n",
    "        plt.figure()\n",
    "        for col in cols:\n",
    "            mc = f\"{col}_média\"\n",
    "            if mc in df_brasil:\n",
    "                plt.plot(df_brasil['ano'], df_brasil[mc], marker='o', label=col)\n",
    "        plt.title(f\"Comparativo de médias por coluna - Brasil\")\n",
    "        plt.xlabel('Ano')\n",
    "        plt.ylabel('Média')\n",
    "        plt.legend()\n",
    "        plt.xticks(df_brasil['ano'])\n",
    "        plt.tight_layout()\n",
    "        plt.savefig(os.path.join(pasta_graficos, f\"{df_prefixo}_comparativo_medias_brasil.png\"))\n",
    "        plt.close()\n",
    "\n",
    "        # Plot múltiplas séries: CV\n",
    "        plt.figure()\n",
    "        for col in cols:\n",
    "            mc = f\"{col}_CV\"\n",
    "            if mc in df_brasil:\n",
    "                plt.plot(df_brasil['ano'], df_brasil[mc], marker='o', label=col)\n",
    "        plt.title(f\"Comparativo de CV por coluna - Brasil\")\n",
    "        plt.xlabel('Ano')\n",
    "        plt.ylabel('CV (%)')\n",
    "        plt.legend()\n",
    "        plt.xticks(df_brasil['ano'])\n",
    "        plt.tight_layout()\n",
    "        plt.savefig(os.path.join(pasta_graficos, f\"{df_prefixo}_comparativo_cv_brasil.png\"))\n",
    "        plt.close()\n",
    "\n",
    "        # Boxplots por métrica agrupando todas as regiões\n",
    "        for mc in metric_cols:\n",
    "            plt.figure()\n",
    "            data = [df_long[df_long['unidade_geografica'] == reg][mc].dropna()\n",
    "                    for reg in df_long['unidade_geografica'].unique()]\n",
    "            plt.boxplot(data, labels=df_long['unidade_geografica'].unique())\n",
    "            plt.title(f\"Distribuição de {mc} por Região\")\n",
    "            plt.xlabel('Região')\n",
    "            plt.ylabel(mc)\n",
    "            plt.xticks(rotation=45, ha='right')\n",
    "            plt.tight_layout()\n",
    "            plt.savefig(os.path.join(pasta_graficos, f\"{df_prefixo}_{mc}_boxplot.png\"))\n",
    "            plt.close()\n",
    "\n",
    "        # Scatter matrix das médias das variáveis (Brasil)\n",
    "        medias = [f\"{col}_média\" for col in cols]\n",
    "        df_scatter = df_brasil.set_index('ano')[medias]\n",
    "        scatter_matrix(df_scatter, figsize=(10,10), diagonal='kde')\n",
    "        plt.suptitle('Matriz de Dispersão das Médias - Brasil')\n",
    "        plt.tight_layout()\n",
    "        plt.savefig(os.path.join(pasta_graficos, f\"{df_prefixo}_scatter_matrix_medias.png\"))\n",
    "        plt.close()\n",
    "\n",
    "    # Gera relatório EDA\n",
    "    if gerar_relatorio_eda:\n",
    "        nome_html = f\"EDA_{df_prefixo}_{pd.Timestamp.now().year}.html\"\n",
    "        caminho_eda = os.path.join(pasta_relatorios, nome_html)\n",
    "        print(f\"[EDA] Gerando relatório em: {caminho_eda}\")\n",
    "        profile = ProfileReport(df_long, title=f\"EDA - métricas {df_prefixo}\", explorative=True)\n",
    "        profile.to_file(caminho_eda)\n",
    "        print(f\"[EDA] Relatório salvo: {caminho_eda}\")\n",
    "\n",
    "    return df_long\n"
   ],
   "id": "5a869a6ea4853554",
   "outputs": [],
   "execution_count": 84
  },
  {
   "metadata": {
    "ExecuteTime": {
     "end_time": "2025-05-21T07:57:25.330854Z",
     "start_time": "2025-05-21T07:57:25.327284Z"
    }
   },
   "cell_type": "code",
   "source": [
    "# Colunas que você quer excluir de todos os DataFrames\n",
    "colunas_excluidas = [  'localizacao', 'dependencia_administrativa']#'unidade_geografica','ano',\n",
    "\n",
    "# Função para obter as colunas úteis de qualquer DataFrame baseado em nome\n",
    "def get_colunas_validas(df_nome):\n",
    "    for ano in anos:\n",
    "        df = globals().get(f\"regioes_{df_nome}_{ano}\")\n",
    "        if df is None:\n",
    "            print(f\"DataFrame {df_nome} não encontrado.\")\n",
    "            return []\n",
    "        return [col for col in df.columns if col not in colunas_excluidas]\n"
   ],
   "id": "98588b3e94193036",
   "outputs": [],
   "execution_count": 85
  },
  {
   "metadata": {},
   "cell_type": "code",
   "source": [
    "\n",
    "colunas = get_colunas_validas(\"AFD\")\n",
    "\n",
    "anos = [2018, 2019, 2022, 2023]\n",
    "\n",
    "analisar_metricas_afd(colunas, anos, \"AFD\")\n",
    "\n"
   ],
   "id": "5d9b6c1230f83c70",
   "outputs": [],
   "execution_count": null
  },
  {
   "metadata": {},
   "cell_type": "markdown",
   "source": "Correlacao de Pearson",
   "id": "4128446b0bd99843"
  },
  {
   "metadata": {},
   "cell_type": "code",
   "source": "",
   "id": "94ce17b5f76fd2fb",
   "outputs": [],
   "execution_count": null
  }
 ],
 "metadata": {
  "kernelspec": {
   "display_name": "Python 3 (ipykernel)",
   "language": "python",
   "name": "python3"
  },
  "language_info": {
   "codemirror_mode": {
    "name": "ipython",
    "version": 3
   },
   "file_extension": ".py",
   "mimetype": "text/x-python",
   "name": "python",
   "nbconvert_exporter": "python",
   "pygments_lexer": "ipython3",
   "version": "3.12.3"
  }
 },
 "nbformat": 4,
 "nbformat_minor": 5
}
