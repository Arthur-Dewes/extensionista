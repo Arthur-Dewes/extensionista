{
 "cells": [
  {
   "cell_type": "code",
   "execution_count": null,
   "id": "5d0fc7ff",
   "metadata": {
    "ExecuteTime": {
     "end_time": "2025-05-21T17:30:18.543880Z",
     "start_time": "2025-05-21T17:30:13.462305Z"
    }
   },
   "outputs": [],
   "source": [
    "import pandas as pd\n",
    "import numpy as np\n",
    "import matplotlib.pyplot as plt\n",
    "import os"
   ]
  },
  {
   "cell_type": "markdown",
   "id": "5be36272-a118-4874-b7c8-3b0f4bd6c1d9",
   "metadata": {
    "jp-MarkdownHeadingCollapsed": true
   },
   "source": [
    "# Leitura e Tratamento dos dados"
   ]
  },
  {
   "cell_type": "code",
   "execution_count": null,
   "id": "a94b7d0f",
   "metadata": {
    "ExecuteTime": {
     "end_time": "2025-05-21T17:30:18.568818Z",
     "start_time": "2025-05-21T17:30:18.559884Z"
    }
   },
   "outputs": [],
   "source": [
    "# EI: ensino infantil\n",
    "# EF: ensino fundamental\n",
    "# EM: ensino médio\n",
    "# EJA: educação de jovens e adultos (f: fundamental; m: médio)\n",
    "# EP: educação profissional\n",
    "# ES: educação especial\n",
    "# gn: grupo 1, grupo 2, grupo 3, grupo 4, grupo 5\n",
    "# nvln: nível 1, nível 2, nível 3, nível 4, nível 5\n",
    "\n",
    "# adequacao da formacao do docente\n",
    "afd_cols    = ['ano', 'unidade_geografica', 'localizacao', 'dependencia_administrativa',\n",
    "            'EI_g1', 'EI_g2', 'EI_g3', 'EI_g4', 'EI_g5',\n",
    "            'EF_total_g1', 'EF_total_g2', 'EF_total_g3', 'EF_total_g4', 'EF_total_g5',\n",
    "            'EF_anos_iniciais_g1', 'EF_anos_iniciais_g2', 'EF_anos_iniciais_g3', 'EF_anos_iniciais_g4', 'EF_anos_iniciais_g5',\n",
    "            'EF_anos_finais_g1', 'EF_anos_finais_g2', 'EF_anos_finais_g3', 'EF_anos_finais_g4', 'EF_anos_finais_g5',\n",
    "            'EM_g1', 'EM_g2', 'EM_g3', 'EM_g4', 'EM_g5',\n",
    "            'EJAf_g1', 'EJAf_g2', 'EJAf_g3', 'EJAf_g4', 'EJAf_g5',\n",
    "            'EJAm_g1', 'EJAm_g2', 'EJAm_g3', 'EJAm_g4', 'EJAm_g5']\n",
    "\n",
    "# percentual dos docentes com curso superior\n",
    "dsu_cols = ['ano', 'unidade_geografica', 'localizacao', 'dependencia_administrativa', \n",
    "           'EI_total', 'EI_creche', 'EI_pre_escola',\n",
    "           'EF_total', 'EF_anos_iniciais', 'EF_anos_finais',\n",
    "           'EM', 'EP', 'EJA', 'ES']\n",
    "\n",
    "# regualridade do corpo docente\n",
    "ird_cols = ['ano', 'unidade_geografica', 'localizacao', 'dependencia_administrativa', \n",
    "           'baixa_regularidade(0-|2)', 'media_baixa(2-|3)', 'media_alta(3-|4)', 'alta(4-|5)']\n",
    "\n",
    "# esforco docente\n",
    "ied_cols = ['ano', 'unidade_geografica', 'localizacao', 'dependencia_administrativa',\n",
    "        'EF_total_nvl1', 'EF_total_nvl2','EF_total_nvl3', 'EF_total_nvl4', 'EF_total_nvl5',\n",
    "        'EF_total_nvl6','EF_anos_iniciais_nvl1', 'EF_anos_iniciais_nvl2','EF_anos_iniciais_nvl3', 'EF_anos_iniciais_nvl4', 'EF_anos_iniciais_nvl5', 'EF_anos_iniciais_nvl6','EF_anos_finais_nvl1', 'EF_anos_finais_nvl2','EF_anos_finais_nvl3', 'EF_anos_finais_nvl4', 'EF_anos_finais_nvl5', 'EF_anos_finais_nvl6','EM_nvl1', 'EM_nvl2','EM_nvl3', 'EM_nvl4', 'EM_nvl5', 'EM_nvl6']"
   ]
  },
  {
   "cell_type": "markdown",
   "id": "5d6f10aa",
   "metadata": {},
   "source": [
    "## 2018"
   ]
  },
  {
   "cell_type": "code",
   "execution_count": null,
   "id": "b5209131",
   "metadata": {
    "ExecuteTime": {
     "end_time": "2025-05-21T17:30:20.919788Z",
     "start_time": "2025-05-21T17:30:18.573816Z"
    }
   },
   "outputs": [],
   "source": [
    "df_AFD_2018 = pd.read_excel('extensionista/dados2018/AFD_BRASIL_REGIOES_UFS_2018.xlsx', names=afd_cols, header=None, skiprows=11, nrows=587, engine='openpyxl')\n",
    "df_DSU_2018 = pd.read_excel('extensionista/dados2018/DSU_BRASIL_REGIOES_UFS_2018_ATUALIZADO.xlsx', names=dsu_cols, header=None, skiprows=10, nrows=587, engine='openpyxl')\n",
    "df_IRD_2018 = pd.read_excel('extensionista/dados2018/IRD_BRASIL_REGIOES_UFS_2018.xlsx', names=ird_cols, header=None, skiprows=10, nrows=586, engine='openpyxl')\n",
    "df_IED_2018 = pd.read_excel('extensionista/dados2018/IED_BRASIL_REGIOES_UFS_2018.xlsx', names = ied_cols,header=None,skiprows=11, nrows=586, engine='openpyxl')"
   ]
  },
  {
   "cell_type": "code",
   "execution_count": null,
   "id": "b58fcdb3",
   "metadata": {
    "ExecuteTime": {
     "end_time": "2025-05-21T17:30:22.332330Z",
     "start_time": "2025-05-21T17:30:22.314889Z"
    }
   },
   "outputs": [],
   "source": [
    "float_cols = df_AFD_2018.columns.to_list()[4:]\n",
    "df_AFD_2018[float_cols] = df_AFD_2018[float_cols].apply(pd.to_numeric, errors='coerce')\n",
    "float_cols = df_IED_2018.columns.to_list()[4:]\n",
    "df_IED_2018[float_cols] = df_IED_2018[float_cols].apply(pd.to_numeric, errors='coerce')"
   ]
  },
  {
   "cell_type": "markdown",
   "id": "15b19259-96e1-4a6f-b748-3ec320e0c94c",
   "metadata": {},
   "source": [
    "Filtrar as linhas para pegar apenas as regioes e excluir colunas que nao iremos utilizar"
   ]
  },
  {
   "cell_type": "code",
   "execution_count": null,
   "id": "0b3ac3cf-f7b3-4a3f-90d5-70a4db7b6d01",
   "metadata": {},
   "outputs": [],
   "source": [
    "regioes_AFD_2018 = df_AFD_2018.drop(['EJAf_g1', 'EJAf_g2', 'EJAf_g3', 'EJAf_g4', 'EJAf_g5',\n",
    "           'EJAm_g1', 'EJAm_g2', 'EJAm_g3', 'EJAm_g4', 'EJAm_g5'], axis=1).loc[:107]\n",
    "\n",
    "regioes_DSU_2018 = df_DSU_2018.drop(['EP', 'EJA', 'ES'],axis=1).loc[:107]\n",
    "regioes_IRD_2018 = df_IRD_2018.loc[:107]\n",
    "regioes_IED_2018 = df_IED_2018.loc[:107]"
   ]
  },
  {
   "cell_type": "markdown",
   "id": "86b7825a",
   "metadata": {},
   "source": [
    "## 2019"
   ]
  },
  {
   "cell_type": "code",
   "execution_count": null,
   "id": "8abdcdbd",
   "metadata": {
    "ExecuteTime": {
     "end_time": "2025-05-21T17:30:23.042984Z",
     "start_time": "2025-05-21T17:30:22.392035Z"
    }
   },
   "outputs": [],
   "source": [
    "df_AFD_2019 = pd.read_excel('extensionista/dados2019/AFD_BRASIL_REGIOES_UFS_2019.xlsx', names=afd_cols, header=None, skiprows=11, nrows=587, engine='openpyxl')\n",
    "df_DSU_2019 = pd.read_excel('extensionista/dados2019/DSU_BRASIL_REGIOES_UFS_2019.xlsx', names=dsu_cols, header=None, skiprows=10, nrows=587, engine='openpyxl')\n",
    "df_IRD_2019 = pd.read_excel('extensionista/dados2019/IRD_BRASIL_REGIOES_UFS_2019.xlsx', names=ird_cols, header=None, skiprows=10, nrows=586, engine='openpyxl')\n",
    "df_IED_2019 = pd.read_excel('extensionista/dados2019/IED_BRASIL_REGIOES_UFS_2019.xlsx', names = ied_cols,header=None,skiprows=11, nrows=586, engine='openpyxl')\n"
   ]
  },
  {
   "cell_type": "markdown",
   "id": "5038eb15da7ee724",
   "metadata": {},
   "source": [
    "Filtrar as linhas para pegar apenas as regioes e excluir colunas que nao iremos utilizar\n",
    "\n"
   ]
  },
  {
   "cell_type": "code",
   "execution_count": null,
   "id": "4bb14a2e41941af",
   "metadata": {
    "ExecuteTime": {
     "end_time": "2025-05-21T17:30:23.092578Z",
     "start_time": "2025-05-21T17:30:23.086497Z"
    }
   },
   "outputs": [],
   "source": [
    "regioes_AFD_2019 = df_AFD_2019.drop(['EJAf_g1', 'EJAf_g2', 'EJAf_g3', 'EJAf_g4', 'EJAf_g5',\n",
    "           'EJAm_g1', 'EJAm_g2', 'EJAm_g3', 'EJAm_g4', 'EJAm_g5'], axis=1).loc[:107]\n",
    "\n",
    "regioes_DSU_2019 = df_DSU_2019.drop(['EP', 'EJA', 'ES'],axis=1).loc[:107]\n",
    "regioes_IRD_2019 = df_IRD_2019.loc[:107]\n",
    "regioes_IED_2019 = df_IED_2019.loc[:107]"
   ]
  },
  {
   "cell_type": "markdown",
   "id": "100f60d1",
   "metadata": {},
   "source": [
    "## 2022"
   ]
  },
  {
   "cell_type": "code",
   "execution_count": null,
   "id": "c54390d6",
   "metadata": {
    "ExecuteTime": {
     "end_time": "2025-05-21T17:30:23.781481Z",
     "start_time": "2025-05-21T17:30:23.146588Z"
    }
   },
   "outputs": [],
   "source": [
    "df_AFD_2022 = pd.read_excel('extensionista/dados2022/AFD_BRASIL_REGIOES_UFS_2022.xlsx', names=afd_cols, header=None, skiprows=11, nrows=587, engine='openpyxl')\n",
    "df_DSU_2022 = pd.read_excel('extensionista/dados2022/DSU_BRASIL_REGIOES_UFS_2022.xlsx', names=dsu_cols, header=None, skiprows=10, nrows=587, engine='openpyxl')\n",
    "df_IRD_2022 = pd.read_excel('extensionista/dados2022/IRD_BRASIL_REGIOES_UFS_2022.xlsx', names=ird_cols, header=None, skiprows=10, nrows=586, engine='openpyxl')\n",
    "df_IED_2022 = pd.read_excel('extensionista/dados2022/IED_BRASIL_REGIOES_UFS_2022.xlsx', names = ied_cols,header=None,skiprows=11, nrows=586, engine='openpyxl')\n"
   ]
  },
  {
   "cell_type": "code",
   "execution_count": null,
   "id": "52b0c30b",
   "metadata": {
    "ExecuteTime": {
     "end_time": "2025-05-21T17:30:23.864497Z",
     "start_time": "2025-05-21T17:30:23.845493Z"
    }
   },
   "outputs": [],
   "source": [
    "float_cols = df_AFD_2022.columns.to_list()[4:]\n",
    "df_AFD_2022[float_cols] = df_AFD_2022[float_cols].apply(pd.to_numeric, errors='coerce')\n",
    "float_cols = df_DSU_2022.columns.to_list()[4:]\n",
    "df_DSU_2022[float_cols] = df_DSU_2022[float_cols].apply(pd.to_numeric, errors='coerce')\n",
    "float_cols = df_IED_2022.columns.to_list()[4:]\n",
    "df_IED_2022[float_cols] = df_IED_2022[float_cols].apply(pd.to_numeric, errors='coerce')"
   ]
  },
  {
   "cell_type": "markdown",
   "id": "a475b1e68d8b11cd",
   "metadata": {},
   "source": [
    "Filtrar as linhas para pegar apenas as regioes e excluir colunas que nao iremos utilizar\n"
   ]
  },
  {
   "cell_type": "code",
   "execution_count": null,
   "id": "2887d2a87a987515",
   "metadata": {
    "ExecuteTime": {
     "end_time": "2025-05-21T17:30:23.939567Z",
     "start_time": "2025-05-21T17:30:23.930807Z"
    }
   },
   "outputs": [],
   "source": [
    "regioes_AFD_2022 = df_AFD_2022.drop(['EJAf_g1', 'EJAf_g2', 'EJAf_g3', 'EJAf_g4', 'EJAf_g5',\n",
    "           'EJAm_g1', 'EJAm_g2', 'EJAm_g3', 'EJAm_g4', 'EJAm_g5'], axis=1).loc[:107]\n",
    "\n",
    "regioes_DSU_2022 = df_DSU_2022.drop(['EP', 'EJA', 'ES'],axis=1).loc[:107]\n",
    "regioes_IRD_2022 = df_IRD_2022.loc[:107]\n",
    "regioes_IED_2022 = df_IED_2022.loc[:107]"
   ]
  },
  {
   "cell_type": "markdown",
   "id": "9c12aa5a",
   "metadata": {},
   "source": [
    "## 2023"
   ]
  },
  {
   "cell_type": "code",
   "execution_count": null,
   "id": "fdd6dd83",
   "metadata": {
    "ExecuteTime": {
     "end_time": "2025-05-21T17:30:24.669332Z",
     "start_time": "2025-05-21T17:30:24.094478Z"
    },
    "scrolled": true
   },
   "outputs": [],
   "source": [
    "df_AFD_2023 = pd.read_excel('extensionista/dados2023/AFD_BRASIL_REGIOES_UFS_2023.xlsx', names=afd_cols, header=None, skiprows=11, nrows=587, engine='openpyxl')\n",
    "df_DSU_2023 = pd.read_excel('extensionista/dados2023/DSU_BRASIL_REGIOES_UFS_2023.xlsx', names=dsu_cols, header=None, skiprows=10, nrows=587, engine='openpyxl')\n",
    "df_IRD_2023 = pd.read_excel('extensionista/dados2023/IRD_BRASIL_REGIOES_UFS_2023.xlsx', names=ird_cols, header=None, skiprows=10, nrows=586, engine='openpyxl')\n",
    "df_IED_2023 = pd.read_excel('extensionista/dados2023/IED_BRASIL_REGIOES_UFS_2023.xlsx', names = ied_cols,header=None,skiprows=11, nrows=586, engine='openpyxl')\n"
   ]
  },
  {
   "cell_type": "code",
   "execution_count": null,
   "id": "fe194b71",
   "metadata": {
    "ExecuteTime": {
     "end_time": "2025-05-21T17:30:24.693150Z",
     "start_time": "2025-05-21T17:30:24.674324Z"
    }
   },
   "outputs": [],
   "source": [
    "float_cols = df_AFD_2023.columns.to_list()[4:]\n",
    "df_AFD_2023[float_cols] = df_AFD_2023[float_cols].apply(pd.to_numeric, errors='coerce')\n",
    "float_cols = df_DSU_2023.columns.to_list()[4:]\n",
    "df_DSU_2023[float_cols] = df_DSU_2023[float_cols].apply(pd.to_numeric, errors='coerce')\n",
    "float_cols = df_IED_2023.columns.to_list()[4:]\n",
    "df_IED_2023[float_cols] = df_IED_2023[float_cols].apply(pd.to_numeric, errors='coerce')"
   ]
  },
  {
   "cell_type": "markdown",
   "id": "98f99e6c97e3e3cf",
   "metadata": {},
   "source": [
    "Filtrar as linhas para pegar apenas as regioes e excluir colunas que nao iremos utilizar\n",
    "\n"
   ]
  },
  {
   "cell_type": "code",
   "execution_count": null,
   "id": "82d26d5eaabb4a12",
   "metadata": {
    "ExecuteTime": {
     "end_time": "2025-05-21T17:30:24.791368Z",
     "start_time": "2025-05-21T17:30:24.781879Z"
    }
   },
   "outputs": [],
   "source": [
    "regioes_AFD_2023 = df_AFD_2023.drop(['EJAf_g1', 'EJAf_g2', 'EJAf_g3', 'EJAf_g4', 'EJAf_g5',\n",
    "           'EJAm_g1', 'EJAm_g2', 'EJAm_g3', 'EJAm_g4', 'EJAm_g5'], axis=1).loc[:107]\n",
    "\n",
    "regioes_DSU_2023 = df_DSU_2023.drop(['EP', 'EJA', 'ES'],axis=1).loc[:107]\n",
    "regioes_IRD_2023 = df_IRD_2023.loc[:107]\n",
    "regioes_IED_2023 = df_IED_2023.loc[:107]"
   ]
  },
  {
   "cell_type": "markdown",
   "id": "8f04600c-a45f-4da1-87b9-e3ea4a4318df",
   "metadata": {
    "jp-MarkdownHeadingCollapsed": true
   },
   "source": [
    "# Divisão entre regiões e ano"
   ]
  },
  {
   "cell_type": "code",
   "execution_count": null,
   "id": "466d7641-4d33-43a8-a4a2-cc71378bd7db",
   "metadata": {},
   "outputs": [],
   "source": [
    "def filtrar_regioes_por_ano(dfs_por_ano, regioes=[\"Sul\", \"Sudeste\", \"Norte\", \"Nordeste\", \"Centro-Oeste\", \"Brasil\"]):\n",
    "    resultado = {}\n",
    "\n",
    "    for ano, dfs in dfs_por_ano.items():  # ex: ano = 2018, dfs = {\"AFD\": df, \"DSU\": df, ...}\n",
    "        for tipo, df in dfs.items():  # tipo = \"AFD\", \"DSU\", etc.\n",
    "            for regiao in regioes:\n",
    "                nome_var = f\"Regiao_{regiao.replace('-', '')}_{tipo}_{ano}\"\n",
    "                resultado[nome_var] = df[df[\"unidade_geografica\"] == regiao]\n",
    "    \n",
    "    return resultado\n",
    "\n",
    "dfs_por_ano = {\n",
    "    2018: {\"AFD\": regioes_AFD_2018, \"DSU\": regioes_DSU_2018, \"IRD\": regioes_IRD_2018, \"IED\": regioes_IED_2018},\n",
    "    2019: {\"AFD\": regioes_AFD_2019, \"DSU\": regioes_DSU_2019, \"IRD\": regioes_IRD_2019, \"IED\": regioes_IED_2019},\n",
    "    2022: {\"AFD\": regioes_AFD_2022, \"DSU\": regioes_DSU_2022, \"IRD\": regioes_IRD_2022, \"IED\": regioes_IED_2022},\n",
    "    2023: {\"AFD\": regioes_AFD_2023, \"DSU\": regioes_DSU_2023, \"IRD\": regioes_IRD_2023, \"IED\": regioes_IED_2023},\n",
    "}\n",
    "\n",
    "regioes_filtradas = filtrar_regioes_por_ano(dfs_por_ano)"
   ]
  },
  {
   "cell_type": "markdown",
   "id": "99dafc74",
   "metadata": {
    "jp-MarkdownHeadingCollapsed": true
   },
   "source": [
    "# Verificação para saber se todos possuem o mesmo shape"
   ]
  },
  {
   "cell_type": "code",
   "execution_count": null,
   "id": "33c815e4",
   "metadata": {
    "ExecuteTime": {
     "end_time": "2025-05-21T17:30:24.898162Z",
     "start_time": "2025-05-21T17:30:24.891160Z"
    }
   },
   "outputs": [],
   "source": [
    "bases = ['AFD', 'DSU', 'IED', 'IRD']\n",
    "anos = [2018, 2019, 2022, 2023]\n",
    "\n",
    "# Comparar os dataframes com prefixo 'df_'\n",
    "print(\"\\nComparações para 'df_':\")\n",
    "dif_dfs = []\n",
    "for base in bases:\n",
    "    shape_2018 = globals()[f\"df_{base}_2018\"].shape\n",
    "\n",
    "    for ano in anos:\n",
    "        nome_df = f\"df_{base}_{ano}\"\n",
    "        df = globals()[nome_df]\n",
    "        same_shape = df.shape == shape_2018\n",
    "        if not same_shape:\n",
    "            print(f\"{nome_df} → Shape diferente: {df.shape}, esperado: {shape_2018}\")\n",
    "            dif_dfs.append(nome_df)\n",
    "if not dif_dfs:\n",
    "    print(\"Todos os DataFrames 'df_' têm o mesmo shape que os de 2018.\")\n",
    "else:\n",
    "    print(\"Alguns DataFrames 'df_' têm shape diferente dos de 2018.\")\n",
    "\n",
    "print()\n",
    "\n",
    "# Comparar os dataframes com prefixo 'regioes_'\n",
    "print(\"Comparações para 'regioes_':\")\n",
    "dif_regioes = []\n",
    "for base in bases:\n",
    "    shape_2018 = globals()[f\"regioes_{base}_2018\"].shape\n",
    "\n",
    "    for ano in anos:\n",
    "        nome_df = f\"regioes_{base}_{ano}\"\n",
    "        df = globals()[nome_df]\n",
    "        same_shape = df.shape == shape_2018\n",
    "        if not same_shape:\n",
    "            print(f\"{nome_df} → Shape diferente: {df.shape}, esperado: {shape_2018}\")\n",
    "            dif_regioes.append(nome_df)\n",
    "\n",
    "if not dif_regioes:\n",
    "    print(\"Todos os DataFrames 'regioes_' têm o mesmo shape que os de 2018.\")\n",
    "else:\n",
    "    print(\"Alguns DataFrames 'regioes_' têm shape diferente dos de 2018.\")\n"
   ]
  },
  {
   "cell_type": "markdown",
   "id": "34814a96-1aa1-4039-ae28-9f535e696795",
   "metadata": {
    "jp-MarkdownHeadingCollapsed": true
   },
   "source": [
    "# Estatística descritiva"
   ]
  },
  {
   "cell_type": "code",
   "execution_count": null,
   "id": "f43cc6ff",
   "metadata": {
    "ExecuteTime": {
     "end_time": "2025-05-21T07:15:01.296848Z",
     "start_time": "2025-05-21T07:15:01.291454Z"
    }
   },
   "outputs": [],
   "source": [
    "def media(col):\n",
    "    \"\"\"Média de uma coluna (Series)\"\"\"\n",
    "    return col.mean()\n",
    "\n",
    "def desvio_padrao(col):\n",
    "    \"\"\"Desvio padrão (amostral) da coluna (Series)\"\"\"\n",
    "    return col.std()\n",
    "\n",
    "def coeficiente_variacao(col):\n",
    "    \"\"\"Coeficiente de variação (%). Se a média for zero, retorna inf\"\"\"\n",
    "    media_col = col.mean()\n",
    "    if media_col == 0:\n",
    "        return float('inf')\n",
    "    return (col.std() / media_col) * 100"
   ]
  },
  {
   "cell_type": "markdown",
   "id": "f3d3cc07-ffe1-4134-b518-bb5fbed70ac8",
   "metadata": {
    "jp-MarkdownHeadingCollapsed": true
   },
   "source": [
    "# Correlação entre variáveis"
   ]
  },
  {
   "cell_type": "code",
   "execution_count": null,
   "id": "94ce17b5f76fd2fb",
   "metadata": {},
   "outputs": [],
   "source": [
    "def calcular_correlacoes_completas(dfs_por_ano, regioes=['Sul', 'Sudeste', 'Norte', 'Nordeste', 'Centro-Oeste', 'Brasil']):\n",
    "    os.makedirs('output/correlacoes', exist_ok=True)\n",
    "\n",
    "    for ano, dfs in dfs_por_ano.items():\n",
    "        with pd.ExcelWriter(f'output/correlacoes/correlacoes_{ano}.xlsx', engine='openpyxl') as writer:\n",
    "            for regiao in regioes:\n",
    "                df_afn = dfs['AFD'].loc[lambda df: df['unidade_geografica'] == regiao]\n",
    "                df_dsu = dfs['DSU'].loc[lambda df: df['unidade_geografica'] == regiao]\n",
    "                df_ird = dfs['IRD'].loc[lambda df: df['unidade_geografica'] == regiao]\n",
    "                df_ied = dfs['IED'].loc[lambda df: df['unidade_geografica'] == regiao]\n",
    "\n",
    "                if df_afn.empty and df_dsu.empty and df_ird.empty and df_ied.empty:\n",
    "                    continue\n",
    "\n",
    "                def prepara(df, prefix):\n",
    "                    num = df.select_dtypes(include='number')\n",
    "                    num.columns = [f'{prefix}_{c}' for c in num.columns]\n",
    "                    return num.reset_index(drop=True)\n",
    "\n",
    "                a = prepara(df_afn, 'AFD')\n",
    "                b = prepara(df_dsu, 'DSU')\n",
    "                c = prepara(df_ird, 'IRD')\n",
    "                d = prepara(df_ied, 'IED')\n",
    "\n",
    "                all_vars = pd.concat([a, b, c, d], axis=1)\n",
    "\n",
    "                corr = all_vars.corr()\n",
    "\n",
    "                # save sheet\n",
    "                corr.to_excel(writer, sheet_name=regiao[:31])\n",
    "\n",
    "calcular_correlacoes_completas(dfs_por_ano)"
   ]
  },
  {
   "cell_type": "markdown",
   "id": "48ae5e26-896d-4244-b974-c2ecc42e4b40",
   "metadata": {
    "jp-MarkdownHeadingCollapsed": true
   },
   "source": [
    "# Aplicação de estatística descritiva"
   ]
  },
  {
   "cell_type": "code",
   "execution_count": null,
   "id": "f34e6c50-1d95-4024-9d31-943ec22444ae",
   "metadata": {},
   "outputs": [],
   "source": [
    "def calcular_distribuicoes(dfs_por_ano,\n",
    "                           regioes=[\"Sul\", \"Sudeste\", \"Norte\", \"Nordeste\", \"Centro-Oeste\", \"Brasil\"]):\n",
    "    os.makedirs(\"output/metricas\", exist_ok=True)\n",
    "\n",
    "    for ano, dfs in dfs_por_ano.items():\n",
    "\n",
    "        with pd.ExcelWriter(f'output/metricas/metricas_distribuicao_{ano}.xlsx', engine='openpyxl') as writer:\n",
    "            for regiao in regioes:\n",
    "                partes = []\n",
    "                for base, df in dfs.items():\n",
    "                    df_reg = df[df[\"unidade_geografica\"] == regiao]\n",
    "                    if df_reg.empty:\n",
    "                        continue\n",
    "                    num = df_reg.select_dtypes(include='number')\n",
    "                    num.columns = [f\"{base}_{c}\" for c in num.columns]\n",
    "                    partes.append(num)\n",
    "                \n",
    "                if not partes:\n",
    "                    continue\n",
    "\n",
    "                dados = pd.concat(partes, axis=0, ignore_index=True)\n",
    "\n",
    "                resumo = pd.DataFrame({\n",
    "                    'media':              dados.apply(media),\n",
    "                    'desvio_padrao':      dados.apply(desvio_padrao),\n",
    "                    'coef_variacao_%':    dados.apply(coeficiente_variacao),\n",
    "                })\n",
    "\n",
    "                resumo = resumo.round(2)\n",
    "\n",
    "                # save sheet\n",
    "                resumo.to_excel(writer, sheet_name=regiao[:31])\n",
    "\n",
    "calcular_distribuicoes(dfs_por_ano)"
   ]
  },
  {
   "cell_type": "markdown",
   "id": "6e1f3514-533e-4c1f-bdf8-0155a641b50c",
   "metadata": {
    "jp-MarkdownHeadingCollapsed": true
   },
   "source": [
    "# Plot das features de correlação mais extrema"
   ]
  },
  {
   "cell_type": "code",
   "execution_count": null,
   "id": "cde1fac4-001c-4127-a507-36a70122a7a2",
   "metadata": {},
   "outputs": [],
   "source": [
    "def pares_correlacao_alta(ano, regiao, corte, pasta):\n",
    "    \n",
    "    arquivo = f'{pasta}/correlacoes_{ano}.xlsx'\n",
    "    corr = pd.read_excel(arquivo, sheet_name=regiao, index_col=0)\n",
    "    \n",
    "    mask = corr.abs() > corte\n",
    "    for idx in corr.index:\n",
    "        mask.at[idx, idx] = False\n",
    "\n",
    "    resultados = []\n",
    "    for i in range(len(corr.index)):\n",
    "        for j in range(i+1, len(corr.columns)):\n",
    "            if mask.iat[i, j]:\n",
    "                var_i = corr.index[i]\n",
    "                var_j = corr.columns[j]\n",
    "                val = corr.iat[i, j]\n",
    "                resultados.append((var_i, var_j, val))\n",
    "    \n",
    "    df_pares = pd.DataFrame(resultados, columns=['var1', 'var2', 'correlacao'])\n",
    "    \n",
    "    df_positivos = df_pares[df_pares['correlacao'] >= corte].reset_index(drop=True)\n",
    "    df_negativos = df_pares[df_pares['correlacao'] <= -corte].reset_index(drop=True)\n",
    "    \n",
    "    return df_positivos, df_negativos"
   ]
  },
  {
   "cell_type": "code",
   "execution_count": null,
   "id": "ed5378b9-2642-4a09-878d-d0cd51f85db8",
   "metadata": {
    "scrolled": true
   },
   "outputs": [],
   "source": [
    "for ano in anos:\n",
    "    df_pos, df_neg = pares_correlacao_alta(ano, 'Brasil', 0.7, pasta='output/correlacoes')\n",
    "    \n",
    "    top_pos = df_pos.nlargest(3, 'correlacao')\n",
    "    top_neg = df_neg.nsmallest(3, 'correlacao')\n",
    "    top3    = pd.concat([top_pos, top_neg], ignore_index=True)\n",
    "    \n",
    "    vars_pref = pd.unique(top3[['var1','var2']].values.ravel())\n",
    "    \n",
    "    blocos = []\n",
    "    for base, df_base in dfs_por_ano[ano].items():\n",
    "        df_b = df_base[df_base['unidade_geografica'] == 'Brasil']\n",
    "        num = df_b.select_dtypes(include='number')\n",
    "        # adiciona prefixo para corresponder a var1/var2\n",
    "        num.columns = [f\"{base}_{c}\" for c in num.columns]\n",
    "        blocos.append(num)\n",
    "    df_region = pd.concat(blocos, axis=1).reset_index(drop=True)\n",
    "    \n",
    "    for _, row in top3.iterrows():\n",
    "        v1, v2 = row['var1'], row['var2']\n",
    "        if v1 in df_region.columns and v2 in df_region.columns:\n",
    "            plt.figure()\n",
    "            plt.plot(df_region.index, df_region[v1], label=v1)\n",
    "            plt.plot(df_region.index, df_region[v2], label=v2)\n",
    "            plt.title(f'{ano} – {v1} VS {v2}\\nCorrelação = {row[\"correlacao\"]:.3f}')\n",
    "            plt.xlabel('Observação')\n",
    "            plt.ylabel('Valor')\n",
    "            plt.legend()\n",
    "            plt.tight_layout()\n",
    "            plt.show()\n"
   ]
  },
  {
   "cell_type": "code",
   "execution_count": null,
   "id": "5ecc1737",
   "metadata": {},
   "outputs": [],
   "source": [
    "def calcular_variacao_percentual(df_ano1, df_ano2):\n",
    "    \"\"\"\n",
    "    Calcula a variação percentual entre dois DataFrames do mesmo tipo de base.\n",
    "    Retorna um DataFrame com colunas de variação '%'.\n",
    "    \"\"\"\n",
    "    regioes = set(df_ano1['unidade_geografica']).intersection(df_ano2['unidade_geografica']) # Interseção de regiões\n",
    "    \n",
    "    df1 = df_ano1[df_ano1['unidade_geografica'].isin(regioes)].reset_index(drop=True)\n",
    "    df2 = df_ano2[df_ano2['unidade_geografica'].isin(regioes)].reset_index(drop=True)\n",
    "    \n",
    "    resultado = df1[['unidade_geografica', 'localizacao', 'dependencia_administrativa']].copy()\n",
    "    \n",
    "    num_cols = df1.select_dtypes(include=[np.number]).columns\n",
    "    for col in num_cols:\n",
    "        if col in df2.columns:\n",
    "            denom = df1[col].replace(0, np.nan)\n",
    "            resultado[f'{col}_var_%'] = ((df2[col] - df1[col]) / denom * 100).round(2)\n",
    "    return resultado\n",
    "\n",
    "def gerar_comparacoes_temporais(dfs_por_ano, comparacoes, regioes=None):\n",
    "    \"\"\"\n",
    "    Gera arquivos Excel com comparações percentuais para cada par de anos.\n",
    "    Um sheet por base (AFD, DSU, IRD, IED).\n",
    "    \"\"\"\n",
    "    os.makedirs('output/conclusoes', exist_ok=True)\n",
    "    bases = ['AFD', 'DSU', 'IRD', 'IED']\n",
    "    \n",
    "    for (ano1, ano2), nome in comparacoes.items():\n",
    "        path = f'output/conclusoes/{nome}'\n",
    "        with pd.ExcelWriter(path, engine='openpyxl') as writer:\n",
    "            for base in bases:\n",
    "                df1 = dfs_por_ano[ano1][base]\n",
    "                df2 = dfs_por_ano[ano2][base]\n",
    "                \n",
    "                df_var = calcular_variacao_percentual(df1, df2)\n",
    "                if regioes is not None:\n",
    "                    df_var = df_var[df_var['unidade_geografica'].isin(regioes)]\n",
    "                \n",
    "                df_var.insert(0, 'ano_base', ano1)\n",
    "                df_var.insert(1, 'ano_comparacao', ano2)\n",
    "                \n",
    "                df_var.to_excel(writer, sheet_name=base, index=False)\n",
    "        print(f'Gerado: {path}')\n",
    "\n",
    "def extrair_top10_variacoes_2018_2023(dfs_por_ano, comparacoes, top_n=10):\n",
    "    \"\"\"\n",
    "    Identifica as top N maiores variações (positivas e negativas)\n",
    "    entre 2018 e 2023, em todas as bases, usando dfs_por_ano diretamente.\n",
    "    Retorna um DataFrame consolidado e escreve um TXT.\n",
    "    \"\"\"\n",
    "    ano1, ano2 = 2018, 2023\n",
    "    bases = ['AFD','DSU','IRD','IED']\n",
    "    todos = []\n",
    "\n",
    "    for base in bases:\n",
    "\n",
    "        df1 = dfs_por_ano[ano1][base]\n",
    "        df2 = dfs_por_ano[ano2][base]\n",
    "        df_var = calcular_variacao_percentual(df1, df2)\n",
    "        \n",
    "        cols_var = [c for c in df_var.columns if c.endswith('_var_%')]\n",
    "        for c in cols_var:\n",
    "            temp = df_var[['unidade_geografica', c]].dropna()\n",
    "            temp['modulo'] = temp[c].abs() # ordena por módulo da variação\n",
    "            top = temp.nlargest(top_n, 'modulo')\n",
    "            for _, r in top.iterrows():\n",
    "                todos.append({\n",
    "                    'base': base,\n",
    "                    'variavel': c.replace('_var_%',''),\n",
    "                    'regiao': r['unidade_geografica'],\n",
    "                    'variacao_%': r[c]\n",
    "                })\n",
    "\n",
    "    df_top = (\n",
    "        pd.DataFrame(todos)\n",
    "          .sort_values('variacao_%', key=lambda s: s.abs(), ascending=False)\n",
    "          .head(top_n)\n",
    "    )\n",
    "\n",
    "    txt_path = 'output/conclusoes/top10_variacoes_2018_2023.txt'\n",
    "    with open(txt_path, 'w', encoding='utf-8') as f:\n",
    "        f.write(f\"Top {top_n} maiores variações 2018 vs 2023 (todas as bases)\\n\\n\")\n",
    "        for _, r in df_top.iterrows():\n",
    "            f.write(f\"{r['base']} – {r['variavel']} | Região: {r['regiao']} | Variação: {r['variacao_%']:.2f}%\\n\")\n",
    "    print(f'Gerado TXT: {txt_path}')\n",
    "\n",
    "    return df_top\n",
    "\n",
    "comparacoes = {\n",
    "    (2018, 2019): 'comparacao_2018_vs_2019.xlsx',\n",
    "    (2022, 2023): 'comparacao_2022_vs_2023.xlsx',\n",
    "    (2018, 2023): 'comparacao_2018_vs_2023.xlsx'\n",
    "}\n",
    "\n",
    "regioes_de_interesse = ['Brasil', 'Sul', 'Norte', 'Centro-Oeste', 'Nordeste', 'Sudeste']\n",
    "\n",
    "print(\"Iniciando geração de comparações...\")\n",
    "gerar_comparacoes_temporais(dfs_por_ano, comparacoes, regioes=regioes_de_interesse)\n",
    "\n",
    "print(\"\\nExtraindo top 10 variações 2018-2023 e gerando TXT...\")\n",
    "top10 = extrair_top10_variacoes_2018_2023(dfs_por_ano, comparacoes, top_n=10)\n",
    "\n",
    "print(\"\\nProcessamento concluído.\")\n"
   ]
  }
 ],
 "metadata": {
  "kernelspec": {
   "display_name": ".venv",
   "language": "python",
   "name": "python3"
  },
  "language_info": {
   "codemirror_mode": {
    "name": "ipython",
    "version": 3
   },
   "file_extension": ".py",
   "mimetype": "text/x-python",
   "name": "python",
   "nbconvert_exporter": "python",
   "pygments_lexer": "ipython3",
   "version": "3.12.3"
  }
 },
 "nbformat": 4,
 "nbformat_minor": 5
}
