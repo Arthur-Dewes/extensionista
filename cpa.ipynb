{
 "cells": [
  {
   "cell_type": "code",
   "id": "5d0fc7ff",
   "metadata": {
    "ExecuteTime": {
     "end_time": "2025-05-19T18:32:43.613433Z",
     "start_time": "2025-05-19T18:32:43.610329Z"
    }
   },
   "source": [
    "import pandas as pd"
   ],
   "outputs": [],
   "execution_count": 117
  },
  {
   "cell_type": "code",
   "id": "a94b7d0f",
   "metadata": {
    "ExecuteTime": {
     "end_time": "2025-05-19T18:32:44.234035Z",
     "start_time": "2025-05-19T18:32:44.228474Z"
    }
   },
   "source": [
    "# EI: ensino infantil\n",
    "# EF: ensino fundamental\n",
    "# EM: ensino médio\n",
    "# EJA: educação de jovens e adultos (f: fundamental; m: médio)\n",
    "# EP: educação profissional\n",
    "# ES: educação especial\n",
    "# gn: grupo 1, grupo 2, grupo 3, grupo 4, grupo 5\n",
    "\n",
    "# adequacao da formacao do docente\n",
    "afd_cols = ['ano', 'unidade_geografica', 'localizacao', 'dependencia_administrativa', \n",
    "            'EI_g1', 'EI_g2', 'EI_g3', 'EI_g4', 'EI_g5',\n",
    "           'EF_total_g1', 'EF_total_g2', 'EF_total_g3', 'EF_total_g4', 'EF_total_g5',\n",
    "           'EF_anos_iniciais_g1', 'EF_anos_iniciais_g2', 'EF_anos_iniciais_g3', 'EF_anos_iniciais_g4', 'EF_anos_iniciais_g5',\n",
    "           'EF_anos_finais_g1', 'EF_anos_finais_g2', 'EF_anos_finais_g3', 'EF_anos_finais_g4', 'EF_anos_finais_g5',\n",
    "           'EM_g1', 'EM_g2', 'EM_g3', 'EM_g4', 'EM_g5',\n",
    "           'EJAf_g1', 'EJAf_g2', 'EJAf_g3', 'EJAf_g4', 'EJAf_g5',\n",
    "           'EJAm_g1', 'EJAm_g2', 'EJAm_g3', 'EJAm_g4', 'EJAm_g5']\n",
    "\n",
    "# percentual dos docentes com curso superior\n",
    "dsu_cols = ['ano', 'unidade_geografica', 'localizacao', 'dependencia_administrativa', \n",
    "           'EI_total', 'EI_creche', 'EI_pre_escola',\n",
    "           'EF_total', 'EF_anos_iniciais', 'EF_anos_finais',\n",
    "           'EM', 'EP', 'EJA', 'ES']\n",
    "\n",
    "# regualridade do corpo docente\n",
    "ird_cols = ['ano', 'unidade_geografica', 'localizacao', 'dependencia_administrativa', \n",
    "           'baixa_regularidade(0-|2)', 'media_baixa(2-|3)', 'media_alta(3-|4)', 'alta(4-|5)']\n",
    "\n",
    "# esforco docente\n",
    "ied_cols = ['ano', 'unidade_geografica', 'localizacao', 'dependencia_administrativa',\n",
    "        'EF_total_nvl1', 'EF_total_nvl2','EF_total_nvl3', 'EF_total_nvl4', 'EF_total_nvl5',\n",
    "        'EF_total_nvl6','EF_anos_iniciais_nvl1', 'EF_anos_iniciais_nvl2','EF_anos_iniciais_nvl3', 'EF_anos_iniciais_nvl4', 'EF_anos_iniciais_nvl5', 'EF_anos_iniciais_nvl6','EF_anos_finais_nvl1', 'EF_anos_finais_nvl2','EF_anos_finais_nvl3', 'EF_anos_finais_nvl4', 'EF_anos_finais_nvl5', 'EF_anos_finais_nvl6','EM_nvl1', 'EM_nvl2','EM_nvl3', 'EM_nvl4', 'EM_nvl5', 'EM_nvl6']"
   ],
   "outputs": [],
   "execution_count": 118
  },
  {
   "cell_type": "markdown",
   "id": "5d6f10aa",
   "metadata": {},
   "source": [
    "# 2018"
   ]
  },
  {
   "cell_type": "code",
   "id": "b5209131",
   "metadata": {
    "ExecuteTime": {
     "end_time": "2025-05-19T18:32:46.951809Z",
     "start_time": "2025-05-19T18:32:46.469656Z"
    }
   },
   "source": [
    "df_AFD_2018 = pd.read_excel('dados2018/AFD_BRASIL_REGIOES_UFS_2018.xlsx', names=afd_cols, header=None, skiprows=11, nrows=587, engine='openpyxl')\n",
    "df_DSU_2018 = pd.read_excel('dados2018/DSU_BRASIL_REGIOES_UFS_2018_ATUALIZADO.xlsx', names=dsu_cols, header=None, skiprows=10, nrows=587, engine='openpyxl')\n",
    "df_IRD_2018 = pd.read_excel('dados2018/IRD_BRASIL_REGIOES_UFS_2018.xlsx', names=ird_cols, header=None, skiprows=10, nrows=586, engine='openpyxl')\n",
    "df_IED_2018 = pd.read_excel('dados2018/IED_BRASIL_REGIOES_UFS_2018.xlsx', names = ied_cols,header=None,skiprows=11, nrows=586, engine='openpyxl')"
   ],
   "outputs": [],
   "execution_count": 119
  },
  {
   "cell_type": "code",
   "id": "b58fcdb3",
   "metadata": {
    "ExecuteTime": {
     "end_time": "2025-05-19T18:32:47.597507Z",
     "start_time": "2025-05-19T18:32:47.580383Z"
    }
   },
   "source": [
    "float_cols = df_AFD_2018.columns.to_list()[4:]\n",
    "df_AFD_2018[float_cols] = df_AFD_2018[float_cols].apply(pd.to_numeric, errors='coerce')"
   ],
   "outputs": [],
   "execution_count": 120
  },
  {
   "metadata": {},
   "cell_type": "markdown",
   "source": [
    "Filtrar as linhas para pegar apenas as regioes e excluir colunas que nao iremos utilizar\n",
    "\n"
   ],
   "id": "eff0b9502df6226e"
  },
  {
   "metadata": {
    "ExecuteTime": {
     "end_time": "2025-05-19T18:33:18.981236Z",
     "start_time": "2025-05-19T18:33:18.972490Z"
    }
   },
   "cell_type": "code",
   "source": [
    "regioes_AFD_2018 = df_AFD_2018.drop(['EJAf_g1', 'EJAf_g2', 'EJAf_g3', 'EJAf_g4', 'EJAf_g5',\n",
    "           'EJAm_g1', 'EJAm_g2', 'EJAm_g3', 'EJAm_g4', 'EJAm_g5'], axis=1).loc[:112].fillna(0)\n",
    "regioes_DSU_2018 = df_DSU_2018.drop(['EP', 'EJA', 'ES'],axis=1).loc[:112].fillna(0)\n",
    "\n",
    "regioes_IRD_2018 = df_IRD_2018.loc[:112].fillna(0)\n",
    "\n",
    "regioes_IED_2018 = df_IED_2018.loc[:112].fillna(0)\n",
    "\n",
    "#teoricamente era pra ser 120 mas por algum motivo com 112 esta funcionando perfeitamente"
   ],
   "id": "f34b23b542fd5a7d",
   "outputs": [],
   "execution_count": 122
  },
  {
   "cell_type": "markdown",
   "id": "86b7825a",
   "metadata": {},
   "source": [
    "# 2019"
   ]
  },
  {
   "cell_type": "code",
   "id": "8abdcdbd",
   "metadata": {
    "ExecuteTime": {
     "end_time": "2025-05-19T18:02:02.390938Z",
     "start_time": "2025-05-19T18:02:01.864606Z"
    }
   },
   "source": [
    "df_AFD_2019 = pd.read_excel('dados2019/AFD_BRASIL_REGIOES_UFS_2019.xlsx', names=afd_cols, header=None, skiprows=11, nrows=587, engine='openpyxl')\n",
    "df_DSU_2019 = pd.read_excel('dados2019/DSU_BRASIL_REGIOES_UFS_2019.xlsx', names=dsu_cols, header=None, skiprows=10, nrows=587, engine='openpyxl')\n",
    "df_IRD_2019 = pd.read_excel('dados2019/IRD_BRASIL_REGIOES_UFS_2019.xlsx', names=ird_cols, header=None, skiprows=10, nrows=586, engine='openpyxl')\n",
    "df_IED_2019 = pd.read_excel('dados2019/IED_BRASIL_REGIOES_UFS_2019.xlsx', names = ied_cols,header=None,skiprows=11, nrows=586, engine='openpyxl')\n"
   ],
   "outputs": [],
   "execution_count": 61
  },
  {
   "metadata": {},
   "cell_type": "markdown",
   "source": [
    "Filtrar as linhas para pegar apenas as regioes e excluir colunas que nao iremos utilizar\n",
    "\n"
   ],
   "id": "e6a01432ed768d20"
  },
  {
   "metadata": {
    "ExecuteTime": {
     "end_time": "2025-05-19T18:33:36.519008Z",
     "start_time": "2025-05-19T18:33:36.511976Z"
    }
   },
   "cell_type": "code",
   "source": [
    "regioes_AFD_2019 = df_AFD_2019.drop(['EJAf_g1', 'EJAf_g2', 'EJAf_g3', 'EJAf_g4', 'EJAf_g5',\n",
    "           'EJAm_g1', 'EJAm_g2', 'EJAm_g3', 'EJAm_g4', 'EJAm_g5'], axis=1).loc[:112].fillna(0)\n",
    "\n",
    "regioes_DSU_2019 = df_DSU_2019.drop(['EP', 'EJA', 'ES'],axis=1).loc[:112].fillna(0)\n",
    "\n",
    "regioes_IRD_2019 = df_IRD_2019.loc[:112].fillna(0)\n",
    "\n",
    "regioes_IED_2019 = df_IED_2019.loc[:112].fillna(0)"
   ],
   "id": "c2014220f0cd06a1",
   "outputs": [],
   "execution_count": 123
  },
  {
   "cell_type": "markdown",
   "id": "100f60d1",
   "metadata": {},
   "source": [
    "# 2022"
   ]
  },
  {
   "cell_type": "code",
   "id": "c54390d6",
   "metadata": {
    "ExecuteTime": {
     "end_time": "2025-05-19T18:02:49.387924Z",
     "start_time": "2025-05-19T18:02:48.794992Z"
    }
   },
   "source": [
    "df_AFD_2022 = pd.read_excel('dados2022/AFD_BRASIL_REGIOES_UFS_2022.xlsx', names=afd_cols, header=None, skiprows=11, nrows=587, engine='openpyxl')\n",
    "df_DSU_2022 = pd.read_excel('dados2022/DSU_BRASIL_REGIOES_UFS_2022.xlsx', names=dsu_cols, header=None, skiprows=10, nrows=587, engine='openpyxl')\n",
    "df_IRD_2022 = pd.read_excel('dados2022/IRD_BRASIL_REGIOES_UFS_2022.xlsx', names=ird_cols, header=None, skiprows=10, nrows=586, engine='openpyxl')\n",
    "df_IED_2022 = pd.read_excel('dados2022/IED_BRASIL_REGIOES_UFS_2022.xlsx', names = ied_cols,header=None,skiprows=11, nrows=586, engine='openpyxl')\n"
   ],
   "outputs": [],
   "execution_count": 62
  },
  {
   "cell_type": "code",
   "execution_count": 32,
   "id": "52b0c30b",
   "metadata": {},
   "outputs": [],
   "source": [
    "float_cols = df_AFD_2022.columns.to_list()[4:]\n",
    "df_AFD_2022[float_cols] = df_AFD_2022[float_cols].apply(pd.to_numeric, errors='coerce')\n",
    "float_cols = df_DSU_2022.columns.to_list()[4:]\n",
    "df_DSU_2022[float_cols] = df_DSU_2022[float_cols].apply(pd.to_numeric, errors='coerce')"
   ]
  },
  {
   "metadata": {},
   "cell_type": "markdown",
   "source": "Filtrar as linhas para pegar apenas as regioes e excluir colunas que nao iremos utilizar\n",
   "id": "a475b1e68d8b11cd"
  },
  {
   "metadata": {
    "ExecuteTime": {
     "end_time": "2025-05-19T18:33:51.960422Z",
     "start_time": "2025-05-19T18:33:51.952333Z"
    }
   },
   "cell_type": "code",
   "source": [
    "regioes_AFD_2022 = df_AFD_2022.drop(['EJAf_g1', 'EJAf_g2', 'EJAf_g3', 'EJAf_g4', 'EJAf_g5',\n",
    "           'EJAm_g1', 'EJAm_g2', 'EJAm_g3', 'EJAm_g4', 'EJAm_g5'], axis=1).loc[:112].fillna(0)\n",
    "\n",
    "regioes_DSU_2022 = df_DSU_2022.drop(['EP', 'EJA', 'ES'],axis=1).loc[:112].fillna(0)\n",
    "\n",
    "regioes_IRD_2022 = df_IRD_2022.loc[:112].fillna(0)\n",
    "\n",
    "regioes_IED_2022 = df_IED_2022.loc[:112].fillna(0)"
   ],
   "id": "2887d2a87a987515",
   "outputs": [],
   "execution_count": 124
  },
  {
   "cell_type": "markdown",
   "id": "9c12aa5a",
   "metadata": {},
   "source": [
    "# 2023"
   ]
  },
  {
   "cell_type": "code",
   "id": "fdd6dd83",
   "metadata": {
    "ExecuteTime": {
     "end_time": "2025-05-19T18:03:08.935007Z",
     "start_time": "2025-05-19T18:03:08.288964Z"
    }
   },
   "source": [
    "df_AFD_2023 = pd.read_excel('dados2023/AFD_BRASIL_REGIOES_UFS_2023.xlsx', names=afd_cols, header=None, skiprows=11, nrows=587, engine='openpyxl')\n",
    "df_DSU_2023 = pd.read_excel('dados2023/DSU_BRASIL_REGIOES_UFS_2023.xlsx', names=dsu_cols, header=None, skiprows=10, nrows=587, engine='openpyxl')\n",
    "df_IRD_2023 = pd.read_excel('dados2023/IRD_BRASIL_REGIOES_UFS_2023.xlsx', names=ird_cols, header=None, skiprows=10, nrows=586, engine='openpyxl')\n",
    "df_IED_2023 = pd.read_excel('dados2023/IED_BRASIL_REGIOES_UFS_2023.xlsx', names = ied_cols,header=None,skiprows=11, nrows=586, engine='openpyxl')\n"
   ],
   "outputs": [],
   "execution_count": 63
  },
  {
   "cell_type": "code",
   "execution_count": 41,
   "id": "fe194b71",
   "metadata": {},
   "outputs": [],
   "source": [
    "float_cols = df_AFD_2023.columns.to_list()[4:]\n",
    "df_AFD_2023[float_cols] = df_AFD_2023[float_cols].apply(pd.to_numeric, errors='coerce')\n",
    "float_cols = df_DSU_2023.columns.to_list()[4:]\n",
    "df_DSU_2023[float_cols] = df_DSU_2023[float_cols].apply(pd.to_numeric, errors='coerce')"
   ]
  },
  {
   "metadata": {},
   "cell_type": "markdown",
   "source": [
    "Filtrar as linhas para pegar apenas as regioes e excluir colunas que nao iremos utilizar\n",
    "\n"
   ],
   "id": "98f99e6c97e3e3cf"
  },
  {
   "metadata": {
    "ExecuteTime": {
     "end_time": "2025-05-19T18:34:20.533704Z",
     "start_time": "2025-05-19T18:34:20.525636Z"
    }
   },
   "cell_type": "code",
   "source": [
    "regioes_AFD_2023 = df_AFD_2023.drop(['EJAf_g1', 'EJAf_g2', 'EJAf_g3', 'EJAf_g4', 'EJAf_g5',\n",
    "           'EJAm_g1', 'EJAm_g2', 'EJAm_g3', 'EJAm_g4', 'EJAm_g5'], axis=1).loc[:112].fillna(0)\n",
    "\n",
    "regioes_DSU_2023 = df_DSU_2023.drop(['EP', 'EJA', 'ES'],axis=1).loc[:112].fillna(0)\n",
    "\n",
    "regioes_IRD_2023 = df_IRD_2023.loc[:112].fillna(0)\n",
    "\n",
    "regioes_IED_2023 = df_IED_2023.loc[:112].fillna(0)\n",
    "\n"
   ],
   "id": "82d26d5eaabb4a12",
   "outputs": [],
   "execution_count": 127
  }
 ],
 "metadata": {
  "kernelspec": {
   "display_name": "Python 3 (ipykernel)",
   "language": "python",
   "name": "python3"
  },
  "language_info": {
   "codemirror_mode": {
    "name": "ipython",
    "version": 3
   },
   "file_extension": ".py",
   "mimetype": "text/x-python",
   "name": "python",
   "nbconvert_exporter": "python",
   "pygments_lexer": "ipython3",
   "version": "3.12.3"
  }
 },
 "nbformat": 4,
 "nbformat_minor": 5
}
